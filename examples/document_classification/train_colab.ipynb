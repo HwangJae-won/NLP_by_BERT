{
  "nbformat": 4,
  "nbformat_minor": 0,
  "metadata": {
    "colab": {
      "name": "doc-cls-train-colab.ipynb",
      "provenance": [],
      "collapsed_sections": []
    },
    "kernelspec": {
      "name": "python3",
      "display_name": "Python 3"
    },
    "accelerator": "GPU",
    "widgets": {
      "application/vnd.jupyter.widget-state+json": {
        "329ed9bd23fc4d34b5e84825b7507676": {
          "model_module": "@jupyter-widgets/controls",
          "model_name": "HBoxModel",
          "model_module_version": "1.5.0",
          "state": {
            "_dom_classes": [],
            "_model_module": "@jupyter-widgets/controls",
            "_model_module_version": "1.5.0",
            "_model_name": "HBoxModel",
            "_view_count": null,
            "_view_module": "@jupyter-widgets/controls",
            "_view_module_version": "1.5.0",
            "_view_name": "HBoxView",
            "box_style": "",
            "children": [
              "IPY_MODEL_a27cd563f03f4cc980319741c21412fc",
              "IPY_MODEL_101414539dc04257b988932ac589ad01",
              "IPY_MODEL_19391e758c944af89a75f4e3c422af44"
            ],
            "layout": "IPY_MODEL_168009dc60be4e1fa15126f354a2184c"
          }
        },
        "a27cd563f03f4cc980319741c21412fc": {
          "model_module": "@jupyter-widgets/controls",
          "model_name": "HTMLModel",
          "model_module_version": "1.5.0",
          "state": {
            "_dom_classes": [],
            "_model_module": "@jupyter-widgets/controls",
            "_model_module_version": "1.5.0",
            "_model_name": "HTMLModel",
            "_view_count": null,
            "_view_module": "@jupyter-widgets/controls",
            "_view_module_version": "1.5.0",
            "_view_name": "HTMLView",
            "description": "",
            "description_tooltip": null,
            "layout": "IPY_MODEL_3f4baad2d9c046b8b073c9b2a7cbb37d",
            "placeholder": "​",
            "style": "IPY_MODEL_93609af96700474895a89b68c562b991",
            "value": "Downloading: 100%"
          }
        },
        "101414539dc04257b988932ac589ad01": {
          "model_module": "@jupyter-widgets/controls",
          "model_name": "FloatProgressModel",
          "model_module_version": "1.5.0",
          "state": {
            "_dom_classes": [],
            "_model_module": "@jupyter-widgets/controls",
            "_model_module_version": "1.5.0",
            "_model_name": "FloatProgressModel",
            "_view_count": null,
            "_view_module": "@jupyter-widgets/controls",
            "_view_module_version": "1.5.0",
            "_view_name": "ProgressView",
            "bar_style": "success",
            "description": "",
            "description_tooltip": null,
            "layout": "IPY_MODEL_1ddaa2ff95164b89a35b215efe4539b9",
            "max": 249928,
            "min": 0,
            "orientation": "horizontal",
            "style": "IPY_MODEL_8e8f578535bd4311bc4f8d829514fcbc",
            "value": 249928
          }
        },
        "19391e758c944af89a75f4e3c422af44": {
          "model_module": "@jupyter-widgets/controls",
          "model_name": "HTMLModel",
          "model_module_version": "1.5.0",
          "state": {
            "_dom_classes": [],
            "_model_module": "@jupyter-widgets/controls",
            "_model_module_version": "1.5.0",
            "_model_name": "HTMLModel",
            "_view_count": null,
            "_view_module": "@jupyter-widgets/controls",
            "_view_module_version": "1.5.0",
            "_view_name": "HTMLView",
            "description": "",
            "description_tooltip": null,
            "layout": "IPY_MODEL_e74c389b907c46668851515ede97bf64",
            "placeholder": "​",
            "style": "IPY_MODEL_0c68789477024ddaaf4fd42e4687acdb",
            "value": " 250k/250k [00:00&lt;00:00, 1.40MB/s]"
          }
        },
        "168009dc60be4e1fa15126f354a2184c": {
          "model_module": "@jupyter-widgets/base",
          "model_name": "LayoutModel",
          "model_module_version": "1.2.0",
          "state": {
            "_model_module": "@jupyter-widgets/base",
            "_model_module_version": "1.2.0",
            "_model_name": "LayoutModel",
            "_view_count": null,
            "_view_module": "@jupyter-widgets/base",
            "_view_module_version": "1.2.0",
            "_view_name": "LayoutView",
            "align_content": null,
            "align_items": null,
            "align_self": null,
            "border": null,
            "bottom": null,
            "display": null,
            "flex": null,
            "flex_flow": null,
            "grid_area": null,
            "grid_auto_columns": null,
            "grid_auto_flow": null,
            "grid_auto_rows": null,
            "grid_column": null,
            "grid_gap": null,
            "grid_row": null,
            "grid_template_areas": null,
            "grid_template_columns": null,
            "grid_template_rows": null,
            "height": null,
            "justify_content": null,
            "justify_items": null,
            "left": null,
            "margin": null,
            "max_height": null,
            "max_width": null,
            "min_height": null,
            "min_width": null,
            "object_fit": null,
            "object_position": null,
            "order": null,
            "overflow": null,
            "overflow_x": null,
            "overflow_y": null,
            "padding": null,
            "right": null,
            "top": null,
            "visibility": null,
            "width": null
          }
        },
        "3f4baad2d9c046b8b073c9b2a7cbb37d": {
          "model_module": "@jupyter-widgets/base",
          "model_name": "LayoutModel",
          "model_module_version": "1.2.0",
          "state": {
            "_model_module": "@jupyter-widgets/base",
            "_model_module_version": "1.2.0",
            "_model_name": "LayoutModel",
            "_view_count": null,
            "_view_module": "@jupyter-widgets/base",
            "_view_module_version": "1.2.0",
            "_view_name": "LayoutView",
            "align_content": null,
            "align_items": null,
            "align_self": null,
            "border": null,
            "bottom": null,
            "display": null,
            "flex": null,
            "flex_flow": null,
            "grid_area": null,
            "grid_auto_columns": null,
            "grid_auto_flow": null,
            "grid_auto_rows": null,
            "grid_column": null,
            "grid_gap": null,
            "grid_row": null,
            "grid_template_areas": null,
            "grid_template_columns": null,
            "grid_template_rows": null,
            "height": null,
            "justify_content": null,
            "justify_items": null,
            "left": null,
            "margin": null,
            "max_height": null,
            "max_width": null,
            "min_height": null,
            "min_width": null,
            "object_fit": null,
            "object_position": null,
            "order": null,
            "overflow": null,
            "overflow_x": null,
            "overflow_y": null,
            "padding": null,
            "right": null,
            "top": null,
            "visibility": null,
            "width": null
          }
        },
        "93609af96700474895a89b68c562b991": {
          "model_module": "@jupyter-widgets/controls",
          "model_name": "DescriptionStyleModel",
          "model_module_version": "1.5.0",
          "state": {
            "_model_module": "@jupyter-widgets/controls",
            "_model_module_version": "1.5.0",
            "_model_name": "DescriptionStyleModel",
            "_view_count": null,
            "_view_module": "@jupyter-widgets/base",
            "_view_module_version": "1.2.0",
            "_view_name": "StyleView",
            "description_width": ""
          }
        },
        "1ddaa2ff95164b89a35b215efe4539b9": {
          "model_module": "@jupyter-widgets/base",
          "model_name": "LayoutModel",
          "model_module_version": "1.2.0",
          "state": {
            "_model_module": "@jupyter-widgets/base",
            "_model_module_version": "1.2.0",
            "_model_name": "LayoutModel",
            "_view_count": null,
            "_view_module": "@jupyter-widgets/base",
            "_view_module_version": "1.2.0",
            "_view_name": "LayoutView",
            "align_content": null,
            "align_items": null,
            "align_self": null,
            "border": null,
            "bottom": null,
            "display": null,
            "flex": null,
            "flex_flow": null,
            "grid_area": null,
            "grid_auto_columns": null,
            "grid_auto_flow": null,
            "grid_auto_rows": null,
            "grid_column": null,
            "grid_gap": null,
            "grid_row": null,
            "grid_template_areas": null,
            "grid_template_columns": null,
            "grid_template_rows": null,
            "height": null,
            "justify_content": null,
            "justify_items": null,
            "left": null,
            "margin": null,
            "max_height": null,
            "max_width": null,
            "min_height": null,
            "min_width": null,
            "object_fit": null,
            "object_position": null,
            "order": null,
            "overflow": null,
            "overflow_x": null,
            "overflow_y": null,
            "padding": null,
            "right": null,
            "top": null,
            "visibility": null,
            "width": null
          }
        },
        "8e8f578535bd4311bc4f8d829514fcbc": {
          "model_module": "@jupyter-widgets/controls",
          "model_name": "ProgressStyleModel",
          "model_module_version": "1.5.0",
          "state": {
            "_model_module": "@jupyter-widgets/controls",
            "_model_module_version": "1.5.0",
            "_model_name": "ProgressStyleModel",
            "_view_count": null,
            "_view_module": "@jupyter-widgets/base",
            "_view_module_version": "1.2.0",
            "_view_name": "StyleView",
            "bar_color": null,
            "description_width": ""
          }
        },
        "e74c389b907c46668851515ede97bf64": {
          "model_module": "@jupyter-widgets/base",
          "model_name": "LayoutModel",
          "model_module_version": "1.2.0",
          "state": {
            "_model_module": "@jupyter-widgets/base",
            "_model_module_version": "1.2.0",
            "_model_name": "LayoutModel",
            "_view_count": null,
            "_view_module": "@jupyter-widgets/base",
            "_view_module_version": "1.2.0",
            "_view_name": "LayoutView",
            "align_content": null,
            "align_items": null,
            "align_self": null,
            "border": null,
            "bottom": null,
            "display": null,
            "flex": null,
            "flex_flow": null,
            "grid_area": null,
            "grid_auto_columns": null,
            "grid_auto_flow": null,
            "grid_auto_rows": null,
            "grid_column": null,
            "grid_gap": null,
            "grid_row": null,
            "grid_template_areas": null,
            "grid_template_columns": null,
            "grid_template_rows": null,
            "height": null,
            "justify_content": null,
            "justify_items": null,
            "left": null,
            "margin": null,
            "max_height": null,
            "max_width": null,
            "min_height": null,
            "min_width": null,
            "object_fit": null,
            "object_position": null,
            "order": null,
            "overflow": null,
            "overflow_x": null,
            "overflow_y": null,
            "padding": null,
            "right": null,
            "top": null,
            "visibility": null,
            "width": null
          }
        },
        "0c68789477024ddaaf4fd42e4687acdb": {
          "model_module": "@jupyter-widgets/controls",
          "model_name": "DescriptionStyleModel",
          "model_module_version": "1.5.0",
          "state": {
            "_model_module": "@jupyter-widgets/controls",
            "_model_module_version": "1.5.0",
            "_model_name": "DescriptionStyleModel",
            "_view_count": null,
            "_view_module": "@jupyter-widgets/base",
            "_view_module_version": "1.2.0",
            "_view_name": "StyleView",
            "description_width": ""
          }
        },
        "ad3175f3008d4e139fe380f45dee290c": {
          "model_module": "@jupyter-widgets/controls",
          "model_name": "HBoxModel",
          "model_module_version": "1.5.0",
          "state": {
            "_dom_classes": [],
            "_model_module": "@jupyter-widgets/controls",
            "_model_module_version": "1.5.0",
            "_model_name": "HBoxModel",
            "_view_count": null,
            "_view_module": "@jupyter-widgets/controls",
            "_view_module_version": "1.5.0",
            "_view_name": "HBoxView",
            "box_style": "",
            "children": [
              "IPY_MODEL_25424d2c3f1949e4b0868d6f81ab9ac8",
              "IPY_MODEL_e5cdc6b503204a69898566a33cdb7d3b",
              "IPY_MODEL_456acef7840b4b2eb2fdb850b30e2a99"
            ],
            "layout": "IPY_MODEL_9a7e1c5005db4662af07b26a4eaf0da2"
          }
        },
        "25424d2c3f1949e4b0868d6f81ab9ac8": {
          "model_module": "@jupyter-widgets/controls",
          "model_name": "HTMLModel",
          "model_module_version": "1.5.0",
          "state": {
            "_dom_classes": [],
            "_model_module": "@jupyter-widgets/controls",
            "_model_module_version": "1.5.0",
            "_model_name": "HTMLModel",
            "_view_count": null,
            "_view_module": "@jupyter-widgets/controls",
            "_view_module_version": "1.5.0",
            "_view_name": "HTMLView",
            "description": "",
            "description_tooltip": null,
            "layout": "IPY_MODEL_4257de13a2c84d20946583667539f952",
            "placeholder": "​",
            "style": "IPY_MODEL_14312b93564741c6a33c68a37d1db7fa",
            "value": "Downloading: 100%"
          }
        },
        "e5cdc6b503204a69898566a33cdb7d3b": {
          "model_module": "@jupyter-widgets/controls",
          "model_name": "FloatProgressModel",
          "model_module_version": "1.5.0",
          "state": {
            "_dom_classes": [],
            "_model_module": "@jupyter-widgets/controls",
            "_model_module_version": "1.5.0",
            "_model_name": "FloatProgressModel",
            "_view_count": null,
            "_view_module": "@jupyter-widgets/controls",
            "_view_module_version": "1.5.0",
            "_view_name": "ProgressView",
            "bar_style": "success",
            "description": "",
            "description_tooltip": null,
            "layout": "IPY_MODEL_964628fd5d6947078a4c157a0200843d",
            "max": 49,
            "min": 0,
            "orientation": "horizontal",
            "style": "IPY_MODEL_e9b0fe96273045388f2ac5bdaef983c4",
            "value": 49
          }
        },
        "456acef7840b4b2eb2fdb850b30e2a99": {
          "model_module": "@jupyter-widgets/controls",
          "model_name": "HTMLModel",
          "model_module_version": "1.5.0",
          "state": {
            "_dom_classes": [],
            "_model_module": "@jupyter-widgets/controls",
            "_model_module_version": "1.5.0",
            "_model_name": "HTMLModel",
            "_view_count": null,
            "_view_module": "@jupyter-widgets/controls",
            "_view_module_version": "1.5.0",
            "_view_name": "HTMLView",
            "description": "",
            "description_tooltip": null,
            "layout": "IPY_MODEL_2ed5f1128a8b44b489b60403ac99efdf",
            "placeholder": "​",
            "style": "IPY_MODEL_52d435b465d64e07ba3a9db85b887a3f",
            "value": " 49.0/49.0 [00:00&lt;00:00, 1.03kB/s]"
          }
        },
        "9a7e1c5005db4662af07b26a4eaf0da2": {
          "model_module": "@jupyter-widgets/base",
          "model_name": "LayoutModel",
          "model_module_version": "1.2.0",
          "state": {
            "_model_module": "@jupyter-widgets/base",
            "_model_module_version": "1.2.0",
            "_model_name": "LayoutModel",
            "_view_count": null,
            "_view_module": "@jupyter-widgets/base",
            "_view_module_version": "1.2.0",
            "_view_name": "LayoutView",
            "align_content": null,
            "align_items": null,
            "align_self": null,
            "border": null,
            "bottom": null,
            "display": null,
            "flex": null,
            "flex_flow": null,
            "grid_area": null,
            "grid_auto_columns": null,
            "grid_auto_flow": null,
            "grid_auto_rows": null,
            "grid_column": null,
            "grid_gap": null,
            "grid_row": null,
            "grid_template_areas": null,
            "grid_template_columns": null,
            "grid_template_rows": null,
            "height": null,
            "justify_content": null,
            "justify_items": null,
            "left": null,
            "margin": null,
            "max_height": null,
            "max_width": null,
            "min_height": null,
            "min_width": null,
            "object_fit": null,
            "object_position": null,
            "order": null,
            "overflow": null,
            "overflow_x": null,
            "overflow_y": null,
            "padding": null,
            "right": null,
            "top": null,
            "visibility": null,
            "width": null
          }
        },
        "4257de13a2c84d20946583667539f952": {
          "model_module": "@jupyter-widgets/base",
          "model_name": "LayoutModel",
          "model_module_version": "1.2.0",
          "state": {
            "_model_module": "@jupyter-widgets/base",
            "_model_module_version": "1.2.0",
            "_model_name": "LayoutModel",
            "_view_count": null,
            "_view_module": "@jupyter-widgets/base",
            "_view_module_version": "1.2.0",
            "_view_name": "LayoutView",
            "align_content": null,
            "align_items": null,
            "align_self": null,
            "border": null,
            "bottom": null,
            "display": null,
            "flex": null,
            "flex_flow": null,
            "grid_area": null,
            "grid_auto_columns": null,
            "grid_auto_flow": null,
            "grid_auto_rows": null,
            "grid_column": null,
            "grid_gap": null,
            "grid_row": null,
            "grid_template_areas": null,
            "grid_template_columns": null,
            "grid_template_rows": null,
            "height": null,
            "justify_content": null,
            "justify_items": null,
            "left": null,
            "margin": null,
            "max_height": null,
            "max_width": null,
            "min_height": null,
            "min_width": null,
            "object_fit": null,
            "object_position": null,
            "order": null,
            "overflow": null,
            "overflow_x": null,
            "overflow_y": null,
            "padding": null,
            "right": null,
            "top": null,
            "visibility": null,
            "width": null
          }
        },
        "14312b93564741c6a33c68a37d1db7fa": {
          "model_module": "@jupyter-widgets/controls",
          "model_name": "DescriptionStyleModel",
          "model_module_version": "1.5.0",
          "state": {
            "_model_module": "@jupyter-widgets/controls",
            "_model_module_version": "1.5.0",
            "_model_name": "DescriptionStyleModel",
            "_view_count": null,
            "_view_module": "@jupyter-widgets/base",
            "_view_module_version": "1.2.0",
            "_view_name": "StyleView",
            "description_width": ""
          }
        },
        "964628fd5d6947078a4c157a0200843d": {
          "model_module": "@jupyter-widgets/base",
          "model_name": "LayoutModel",
          "model_module_version": "1.2.0",
          "state": {
            "_model_module": "@jupyter-widgets/base",
            "_model_module_version": "1.2.0",
            "_model_name": "LayoutModel",
            "_view_count": null,
            "_view_module": "@jupyter-widgets/base",
            "_view_module_version": "1.2.0",
            "_view_name": "LayoutView",
            "align_content": null,
            "align_items": null,
            "align_self": null,
            "border": null,
            "bottom": null,
            "display": null,
            "flex": null,
            "flex_flow": null,
            "grid_area": null,
            "grid_auto_columns": null,
            "grid_auto_flow": null,
            "grid_auto_rows": null,
            "grid_column": null,
            "grid_gap": null,
            "grid_row": null,
            "grid_template_areas": null,
            "grid_template_columns": null,
            "grid_template_rows": null,
            "height": null,
            "justify_content": null,
            "justify_items": null,
            "left": null,
            "margin": null,
            "max_height": null,
            "max_width": null,
            "min_height": null,
            "min_width": null,
            "object_fit": null,
            "object_position": null,
            "order": null,
            "overflow": null,
            "overflow_x": null,
            "overflow_y": null,
            "padding": null,
            "right": null,
            "top": null,
            "visibility": null,
            "width": null
          }
        },
        "e9b0fe96273045388f2ac5bdaef983c4": {
          "model_module": "@jupyter-widgets/controls",
          "model_name": "ProgressStyleModel",
          "model_module_version": "1.5.0",
          "state": {
            "_model_module": "@jupyter-widgets/controls",
            "_model_module_version": "1.5.0",
            "_model_name": "ProgressStyleModel",
            "_view_count": null,
            "_view_module": "@jupyter-widgets/base",
            "_view_module_version": "1.2.0",
            "_view_name": "StyleView",
            "bar_color": null,
            "description_width": ""
          }
        },
        "2ed5f1128a8b44b489b60403ac99efdf": {
          "model_module": "@jupyter-widgets/base",
          "model_name": "LayoutModel",
          "model_module_version": "1.2.0",
          "state": {
            "_model_module": "@jupyter-widgets/base",
            "_model_module_version": "1.2.0",
            "_model_name": "LayoutModel",
            "_view_count": null,
            "_view_module": "@jupyter-widgets/base",
            "_view_module_version": "1.2.0",
            "_view_name": "LayoutView",
            "align_content": null,
            "align_items": null,
            "align_self": null,
            "border": null,
            "bottom": null,
            "display": null,
            "flex": null,
            "flex_flow": null,
            "grid_area": null,
            "grid_auto_columns": null,
            "grid_auto_flow": null,
            "grid_auto_rows": null,
            "grid_column": null,
            "grid_gap": null,
            "grid_row": null,
            "grid_template_areas": null,
            "grid_template_columns": null,
            "grid_template_rows": null,
            "height": null,
            "justify_content": null,
            "justify_items": null,
            "left": null,
            "margin": null,
            "max_height": null,
            "max_width": null,
            "min_height": null,
            "min_width": null,
            "object_fit": null,
            "object_position": null,
            "order": null,
            "overflow": null,
            "overflow_x": null,
            "overflow_y": null,
            "padding": null,
            "right": null,
            "top": null,
            "visibility": null,
            "width": null
          }
        },
        "52d435b465d64e07ba3a9db85b887a3f": {
          "model_module": "@jupyter-widgets/controls",
          "model_name": "DescriptionStyleModel",
          "model_module_version": "1.5.0",
          "state": {
            "_model_module": "@jupyter-widgets/controls",
            "_model_module_version": "1.5.0",
            "_model_name": "DescriptionStyleModel",
            "_view_count": null,
            "_view_module": "@jupyter-widgets/base",
            "_view_module_version": "1.2.0",
            "_view_name": "StyleView",
            "description_width": ""
          }
        },
        "eb8f1d7b2aff46f9a9d080370f55a2d8": {
          "model_module": "@jupyter-widgets/controls",
          "model_name": "HBoxModel",
          "model_module_version": "1.5.0",
          "state": {
            "_dom_classes": [],
            "_model_module": "@jupyter-widgets/controls",
            "_model_module_version": "1.5.0",
            "_model_name": "HBoxModel",
            "_view_count": null,
            "_view_module": "@jupyter-widgets/controls",
            "_view_module_version": "1.5.0",
            "_view_name": "HBoxView",
            "box_style": "",
            "children": [
              "IPY_MODEL_3ca901cd9bac4d388fcc642522ab8f5f",
              "IPY_MODEL_c91f89ad2ebc44c799e1b5d53dcb7401",
              "IPY_MODEL_dd5f28d3d7ed46699e43d2fccdda0cf3"
            ],
            "layout": "IPY_MODEL_efe29b4c325642da9ad0f7b1c844fc84"
          }
        },
        "3ca901cd9bac4d388fcc642522ab8f5f": {
          "model_module": "@jupyter-widgets/controls",
          "model_name": "HTMLModel",
          "model_module_version": "1.5.0",
          "state": {
            "_dom_classes": [],
            "_model_module": "@jupyter-widgets/controls",
            "_model_module_version": "1.5.0",
            "_model_name": "HTMLModel",
            "_view_count": null,
            "_view_module": "@jupyter-widgets/controls",
            "_view_module_version": "1.5.0",
            "_view_name": "HTMLView",
            "description": "",
            "description_tooltip": null,
            "layout": "IPY_MODEL_8cbfa601b4254d53aa528d174e530f30",
            "placeholder": "​",
            "style": "IPY_MODEL_f22c7a807dec411dbaa4d29c86abb500",
            "value": "Downloading: 100%"
          }
        },
        "c91f89ad2ebc44c799e1b5d53dcb7401": {
          "model_module": "@jupyter-widgets/controls",
          "model_name": "FloatProgressModel",
          "model_module_version": "1.5.0",
          "state": {
            "_dom_classes": [],
            "_model_module": "@jupyter-widgets/controls",
            "_model_module_version": "1.5.0",
            "_model_name": "FloatProgressModel",
            "_view_count": null,
            "_view_module": "@jupyter-widgets/controls",
            "_view_module_version": "1.5.0",
            "_view_name": "ProgressView",
            "bar_style": "success",
            "description": "",
            "description_tooltip": null,
            "layout": "IPY_MODEL_aeca92970093487988a65d6d9e04361d",
            "max": 619,
            "min": 0,
            "orientation": "horizontal",
            "style": "IPY_MODEL_4a25ef10c81448998171b78280cf9e62",
            "value": 619
          }
        },
        "dd5f28d3d7ed46699e43d2fccdda0cf3": {
          "model_module": "@jupyter-widgets/controls",
          "model_name": "HTMLModel",
          "model_module_version": "1.5.0",
          "state": {
            "_dom_classes": [],
            "_model_module": "@jupyter-widgets/controls",
            "_model_module_version": "1.5.0",
            "_model_name": "HTMLModel",
            "_view_count": null,
            "_view_module": "@jupyter-widgets/controls",
            "_view_module_version": "1.5.0",
            "_view_name": "HTMLView",
            "description": "",
            "description_tooltip": null,
            "layout": "IPY_MODEL_41be9dfb57214739ad56d4709e181618",
            "placeholder": "​",
            "style": "IPY_MODEL_1741251817e140a8ab4e4baf8047d194",
            "value": " 619/619 [00:00&lt;00:00, 14.5kB/s]"
          }
        },
        "efe29b4c325642da9ad0f7b1c844fc84": {
          "model_module": "@jupyter-widgets/base",
          "model_name": "LayoutModel",
          "model_module_version": "1.2.0",
          "state": {
            "_model_module": "@jupyter-widgets/base",
            "_model_module_version": "1.2.0",
            "_model_name": "LayoutModel",
            "_view_count": null,
            "_view_module": "@jupyter-widgets/base",
            "_view_module_version": "1.2.0",
            "_view_name": "LayoutView",
            "align_content": null,
            "align_items": null,
            "align_self": null,
            "border": null,
            "bottom": null,
            "display": null,
            "flex": null,
            "flex_flow": null,
            "grid_area": null,
            "grid_auto_columns": null,
            "grid_auto_flow": null,
            "grid_auto_rows": null,
            "grid_column": null,
            "grid_gap": null,
            "grid_row": null,
            "grid_template_areas": null,
            "grid_template_columns": null,
            "grid_template_rows": null,
            "height": null,
            "justify_content": null,
            "justify_items": null,
            "left": null,
            "margin": null,
            "max_height": null,
            "max_width": null,
            "min_height": null,
            "min_width": null,
            "object_fit": null,
            "object_position": null,
            "order": null,
            "overflow": null,
            "overflow_x": null,
            "overflow_y": null,
            "padding": null,
            "right": null,
            "top": null,
            "visibility": null,
            "width": null
          }
        },
        "8cbfa601b4254d53aa528d174e530f30": {
          "model_module": "@jupyter-widgets/base",
          "model_name": "LayoutModel",
          "model_module_version": "1.2.0",
          "state": {
            "_model_module": "@jupyter-widgets/base",
            "_model_module_version": "1.2.0",
            "_model_name": "LayoutModel",
            "_view_count": null,
            "_view_module": "@jupyter-widgets/base",
            "_view_module_version": "1.2.0",
            "_view_name": "LayoutView",
            "align_content": null,
            "align_items": null,
            "align_self": null,
            "border": null,
            "bottom": null,
            "display": null,
            "flex": null,
            "flex_flow": null,
            "grid_area": null,
            "grid_auto_columns": null,
            "grid_auto_flow": null,
            "grid_auto_rows": null,
            "grid_column": null,
            "grid_gap": null,
            "grid_row": null,
            "grid_template_areas": null,
            "grid_template_columns": null,
            "grid_template_rows": null,
            "height": null,
            "justify_content": null,
            "justify_items": null,
            "left": null,
            "margin": null,
            "max_height": null,
            "max_width": null,
            "min_height": null,
            "min_width": null,
            "object_fit": null,
            "object_position": null,
            "order": null,
            "overflow": null,
            "overflow_x": null,
            "overflow_y": null,
            "padding": null,
            "right": null,
            "top": null,
            "visibility": null,
            "width": null
          }
        },
        "f22c7a807dec411dbaa4d29c86abb500": {
          "model_module": "@jupyter-widgets/controls",
          "model_name": "DescriptionStyleModel",
          "model_module_version": "1.5.0",
          "state": {
            "_model_module": "@jupyter-widgets/controls",
            "_model_module_version": "1.5.0",
            "_model_name": "DescriptionStyleModel",
            "_view_count": null,
            "_view_module": "@jupyter-widgets/base",
            "_view_module_version": "1.2.0",
            "_view_name": "StyleView",
            "description_width": ""
          }
        },
        "aeca92970093487988a65d6d9e04361d": {
          "model_module": "@jupyter-widgets/base",
          "model_name": "LayoutModel",
          "model_module_version": "1.2.0",
          "state": {
            "_model_module": "@jupyter-widgets/base",
            "_model_module_version": "1.2.0",
            "_model_name": "LayoutModel",
            "_view_count": null,
            "_view_module": "@jupyter-widgets/base",
            "_view_module_version": "1.2.0",
            "_view_name": "LayoutView",
            "align_content": null,
            "align_items": null,
            "align_self": null,
            "border": null,
            "bottom": null,
            "display": null,
            "flex": null,
            "flex_flow": null,
            "grid_area": null,
            "grid_auto_columns": null,
            "grid_auto_flow": null,
            "grid_auto_rows": null,
            "grid_column": null,
            "grid_gap": null,
            "grid_row": null,
            "grid_template_areas": null,
            "grid_template_columns": null,
            "grid_template_rows": null,
            "height": null,
            "justify_content": null,
            "justify_items": null,
            "left": null,
            "margin": null,
            "max_height": null,
            "max_width": null,
            "min_height": null,
            "min_width": null,
            "object_fit": null,
            "object_position": null,
            "order": null,
            "overflow": null,
            "overflow_x": null,
            "overflow_y": null,
            "padding": null,
            "right": null,
            "top": null,
            "visibility": null,
            "width": null
          }
        },
        "4a25ef10c81448998171b78280cf9e62": {
          "model_module": "@jupyter-widgets/controls",
          "model_name": "ProgressStyleModel",
          "model_module_version": "1.5.0",
          "state": {
            "_model_module": "@jupyter-widgets/controls",
            "_model_module_version": "1.5.0",
            "_model_name": "ProgressStyleModel",
            "_view_count": null,
            "_view_module": "@jupyter-widgets/base",
            "_view_module_version": "1.2.0",
            "_view_name": "StyleView",
            "bar_color": null,
            "description_width": ""
          }
        },
        "41be9dfb57214739ad56d4709e181618": {
          "model_module": "@jupyter-widgets/base",
          "model_name": "LayoutModel",
          "model_module_version": "1.2.0",
          "state": {
            "_model_module": "@jupyter-widgets/base",
            "_model_module_version": "1.2.0",
            "_model_name": "LayoutModel",
            "_view_count": null,
            "_view_module": "@jupyter-widgets/base",
            "_view_module_version": "1.2.0",
            "_view_name": "LayoutView",
            "align_content": null,
            "align_items": null,
            "align_self": null,
            "border": null,
            "bottom": null,
            "display": null,
            "flex": null,
            "flex_flow": null,
            "grid_area": null,
            "grid_auto_columns": null,
            "grid_auto_flow": null,
            "grid_auto_rows": null,
            "grid_column": null,
            "grid_gap": null,
            "grid_row": null,
            "grid_template_areas": null,
            "grid_template_columns": null,
            "grid_template_rows": null,
            "height": null,
            "justify_content": null,
            "justify_items": null,
            "left": null,
            "margin": null,
            "max_height": null,
            "max_width": null,
            "min_height": null,
            "min_width": null,
            "object_fit": null,
            "object_position": null,
            "order": null,
            "overflow": null,
            "overflow_x": null,
            "overflow_y": null,
            "padding": null,
            "right": null,
            "top": null,
            "visibility": null,
            "width": null
          }
        },
        "1741251817e140a8ab4e4baf8047d194": {
          "model_module": "@jupyter-widgets/controls",
          "model_name": "DescriptionStyleModel",
          "model_module_version": "1.5.0",
          "state": {
            "_model_module": "@jupyter-widgets/controls",
            "_model_module_version": "1.5.0",
            "_model_name": "DescriptionStyleModel",
            "_view_count": null,
            "_view_module": "@jupyter-widgets/base",
            "_view_module_version": "1.2.0",
            "_view_name": "StyleView",
            "description_width": ""
          }
        },
        "8ec9998d3a7b48948b90e7623e7a16ff": {
          "model_module": "@jupyter-widgets/controls",
          "model_name": "HBoxModel",
          "model_module_version": "1.5.0",
          "state": {
            "_dom_classes": [],
            "_model_module": "@jupyter-widgets/controls",
            "_model_module_version": "1.5.0",
            "_model_name": "HBoxModel",
            "_view_count": null,
            "_view_module": "@jupyter-widgets/controls",
            "_view_module_version": "1.5.0",
            "_view_name": "HBoxView",
            "box_style": "",
            "children": [
              "IPY_MODEL_908f0475a4bc4696a9633602cc162ec1",
              "IPY_MODEL_e47a6a8175d34cbc878d9859652ef906",
              "IPY_MODEL_089a6a4bdbbe4622af6bd33bbfc4f4fe"
            ],
            "layout": "IPY_MODEL_bc2e8ace1c624a0b9a3218328c507374"
          }
        },
        "908f0475a4bc4696a9633602cc162ec1": {
          "model_module": "@jupyter-widgets/controls",
          "model_name": "HTMLModel",
          "model_module_version": "1.5.0",
          "state": {
            "_dom_classes": [],
            "_model_module": "@jupyter-widgets/controls",
            "_model_module_version": "1.5.0",
            "_model_name": "HTMLModel",
            "_view_count": null,
            "_view_module": "@jupyter-widgets/controls",
            "_view_module_version": "1.5.0",
            "_view_name": "HTMLView",
            "description": "",
            "description_tooltip": null,
            "layout": "IPY_MODEL_c6a091390e0c4886942c6eba1ef5e3e2",
            "placeholder": "​",
            "style": "IPY_MODEL_e16a6c9418cd42cf914ed0d980fbdea3",
            "value": "Downloading: 100%"
          }
        },
        "e47a6a8175d34cbc878d9859652ef906": {
          "model_module": "@jupyter-widgets/controls",
          "model_name": "FloatProgressModel",
          "model_module_version": "1.5.0",
          "state": {
            "_dom_classes": [],
            "_model_module": "@jupyter-widgets/controls",
            "_model_module_version": "1.5.0",
            "_model_name": "FloatProgressModel",
            "_view_count": null,
            "_view_module": "@jupyter-widgets/controls",
            "_view_module_version": "1.5.0",
            "_view_name": "ProgressView",
            "bar_style": "success",
            "description": "",
            "description_tooltip": null,
            "layout": "IPY_MODEL_d71aefe60e754e7aac50d18f5296da1f",
            "max": 438218004,
            "min": 0,
            "orientation": "horizontal",
            "style": "IPY_MODEL_ea8188534ce5444c8562be80d60a02eb",
            "value": 438218004
          }
        },
        "089a6a4bdbbe4622af6bd33bbfc4f4fe": {
          "model_module": "@jupyter-widgets/controls",
          "model_name": "HTMLModel",
          "model_module_version": "1.5.0",
          "state": {
            "_dom_classes": [],
            "_model_module": "@jupyter-widgets/controls",
            "_model_module_version": "1.5.0",
            "_model_name": "HTMLModel",
            "_view_count": null,
            "_view_module": "@jupyter-widgets/controls",
            "_view_module_version": "1.5.0",
            "_view_name": "HTMLView",
            "description": "",
            "description_tooltip": null,
            "layout": "IPY_MODEL_438d44d95daf4f029df785af95081120",
            "placeholder": "​",
            "style": "IPY_MODEL_73ac5c75a4494074a18b0cbfe8c370a8",
            "value": " 438M/438M [00:15&lt;00:00, 37.0MB/s]"
          }
        },
        "bc2e8ace1c624a0b9a3218328c507374": {
          "model_module": "@jupyter-widgets/base",
          "model_name": "LayoutModel",
          "model_module_version": "1.2.0",
          "state": {
            "_model_module": "@jupyter-widgets/base",
            "_model_module_version": "1.2.0",
            "_model_name": "LayoutModel",
            "_view_count": null,
            "_view_module": "@jupyter-widgets/base",
            "_view_module_version": "1.2.0",
            "_view_name": "LayoutView",
            "align_content": null,
            "align_items": null,
            "align_self": null,
            "border": null,
            "bottom": null,
            "display": null,
            "flex": null,
            "flex_flow": null,
            "grid_area": null,
            "grid_auto_columns": null,
            "grid_auto_flow": null,
            "grid_auto_rows": null,
            "grid_column": null,
            "grid_gap": null,
            "grid_row": null,
            "grid_template_areas": null,
            "grid_template_columns": null,
            "grid_template_rows": null,
            "height": null,
            "justify_content": null,
            "justify_items": null,
            "left": null,
            "margin": null,
            "max_height": null,
            "max_width": null,
            "min_height": null,
            "min_width": null,
            "object_fit": null,
            "object_position": null,
            "order": null,
            "overflow": null,
            "overflow_x": null,
            "overflow_y": null,
            "padding": null,
            "right": null,
            "top": null,
            "visibility": null,
            "width": null
          }
        },
        "c6a091390e0c4886942c6eba1ef5e3e2": {
          "model_module": "@jupyter-widgets/base",
          "model_name": "LayoutModel",
          "model_module_version": "1.2.0",
          "state": {
            "_model_module": "@jupyter-widgets/base",
            "_model_module_version": "1.2.0",
            "_model_name": "LayoutModel",
            "_view_count": null,
            "_view_module": "@jupyter-widgets/base",
            "_view_module_version": "1.2.0",
            "_view_name": "LayoutView",
            "align_content": null,
            "align_items": null,
            "align_self": null,
            "border": null,
            "bottom": null,
            "display": null,
            "flex": null,
            "flex_flow": null,
            "grid_area": null,
            "grid_auto_columns": null,
            "grid_auto_flow": null,
            "grid_auto_rows": null,
            "grid_column": null,
            "grid_gap": null,
            "grid_row": null,
            "grid_template_areas": null,
            "grid_template_columns": null,
            "grid_template_rows": null,
            "height": null,
            "justify_content": null,
            "justify_items": null,
            "left": null,
            "margin": null,
            "max_height": null,
            "max_width": null,
            "min_height": null,
            "min_width": null,
            "object_fit": null,
            "object_position": null,
            "order": null,
            "overflow": null,
            "overflow_x": null,
            "overflow_y": null,
            "padding": null,
            "right": null,
            "top": null,
            "visibility": null,
            "width": null
          }
        },
        "e16a6c9418cd42cf914ed0d980fbdea3": {
          "model_module": "@jupyter-widgets/controls",
          "model_name": "DescriptionStyleModel",
          "model_module_version": "1.5.0",
          "state": {
            "_model_module": "@jupyter-widgets/controls",
            "_model_module_version": "1.5.0",
            "_model_name": "DescriptionStyleModel",
            "_view_count": null,
            "_view_module": "@jupyter-widgets/base",
            "_view_module_version": "1.2.0",
            "_view_name": "StyleView",
            "description_width": ""
          }
        },
        "d71aefe60e754e7aac50d18f5296da1f": {
          "model_module": "@jupyter-widgets/base",
          "model_name": "LayoutModel",
          "model_module_version": "1.2.0",
          "state": {
            "_model_module": "@jupyter-widgets/base",
            "_model_module_version": "1.2.0",
            "_model_name": "LayoutModel",
            "_view_count": null,
            "_view_module": "@jupyter-widgets/base",
            "_view_module_version": "1.2.0",
            "_view_name": "LayoutView",
            "align_content": null,
            "align_items": null,
            "align_self": null,
            "border": null,
            "bottom": null,
            "display": null,
            "flex": null,
            "flex_flow": null,
            "grid_area": null,
            "grid_auto_columns": null,
            "grid_auto_flow": null,
            "grid_auto_rows": null,
            "grid_column": null,
            "grid_gap": null,
            "grid_row": null,
            "grid_template_areas": null,
            "grid_template_columns": null,
            "grid_template_rows": null,
            "height": null,
            "justify_content": null,
            "justify_items": null,
            "left": null,
            "margin": null,
            "max_height": null,
            "max_width": null,
            "min_height": null,
            "min_width": null,
            "object_fit": null,
            "object_position": null,
            "order": null,
            "overflow": null,
            "overflow_x": null,
            "overflow_y": null,
            "padding": null,
            "right": null,
            "top": null,
            "visibility": null,
            "width": null
          }
        },
        "ea8188534ce5444c8562be80d60a02eb": {
          "model_module": "@jupyter-widgets/controls",
          "model_name": "ProgressStyleModel",
          "model_module_version": "1.5.0",
          "state": {
            "_model_module": "@jupyter-widgets/controls",
            "_model_module_version": "1.5.0",
            "_model_name": "ProgressStyleModel",
            "_view_count": null,
            "_view_module": "@jupyter-widgets/base",
            "_view_module_version": "1.2.0",
            "_view_name": "StyleView",
            "bar_color": null,
            "description_width": ""
          }
        },
        "438d44d95daf4f029df785af95081120": {
          "model_module": "@jupyter-widgets/base",
          "model_name": "LayoutModel",
          "model_module_version": "1.2.0",
          "state": {
            "_model_module": "@jupyter-widgets/base",
            "_model_module_version": "1.2.0",
            "_model_name": "LayoutModel",
            "_view_count": null,
            "_view_module": "@jupyter-widgets/base",
            "_view_module_version": "1.2.0",
            "_view_name": "LayoutView",
            "align_content": null,
            "align_items": null,
            "align_self": null,
            "border": null,
            "bottom": null,
            "display": null,
            "flex": null,
            "flex_flow": null,
            "grid_area": null,
            "grid_auto_columns": null,
            "grid_auto_flow": null,
            "grid_auto_rows": null,
            "grid_column": null,
            "grid_gap": null,
            "grid_row": null,
            "grid_template_areas": null,
            "grid_template_columns": null,
            "grid_template_rows": null,
            "height": null,
            "justify_content": null,
            "justify_items": null,
            "left": null,
            "margin": null,
            "max_height": null,
            "max_width": null,
            "min_height": null,
            "min_width": null,
            "object_fit": null,
            "object_position": null,
            "order": null,
            "overflow": null,
            "overflow_x": null,
            "overflow_y": null,
            "padding": null,
            "right": null,
            "top": null,
            "visibility": null,
            "width": null
          }
        },
        "73ac5c75a4494074a18b0cbfe8c370a8": {
          "model_module": "@jupyter-widgets/controls",
          "model_name": "DescriptionStyleModel",
          "model_module_version": "1.5.0",
          "state": {
            "_model_module": "@jupyter-widgets/controls",
            "_model_module_version": "1.5.0",
            "_model_name": "DescriptionStyleModel",
            "_view_count": null,
            "_view_module": "@jupyter-widgets/base",
            "_view_module_version": "1.2.0",
            "_view_name": "StyleView",
            "description_width": ""
          }
        },
        "b73b503915984146aacca72bd81fed39": {
          "model_module": "@jupyter-widgets/controls",
          "model_name": "HBoxModel",
          "model_module_version": "1.5.0",
          "state": {
            "_dom_classes": [],
            "_model_module": "@jupyter-widgets/controls",
            "_model_module_version": "1.5.0",
            "_model_name": "HBoxModel",
            "_view_count": null,
            "_view_module": "@jupyter-widgets/controls",
            "_view_module_version": "1.5.0",
            "_view_name": "HBoxView",
            "box_style": "",
            "children": [
              "IPY_MODEL_d8c2073aa7564aa28a836f1cca1dbd5f",
              "IPY_MODEL_7cf0c3c5c3be4ff69cb3ff6ffe935752",
              "IPY_MODEL_f2c7372aff8a4f649aa66b7949681deb"
            ],
            "layout": "IPY_MODEL_77457a49fb694c22961916ad6ff6f7ae"
          }
        },
        "d8c2073aa7564aa28a836f1cca1dbd5f": {
          "model_module": "@jupyter-widgets/controls",
          "model_name": "HTMLModel",
          "model_module_version": "1.5.0",
          "state": {
            "_dom_classes": [],
            "_model_module": "@jupyter-widgets/controls",
            "_model_module_version": "1.5.0",
            "_model_name": "HTMLModel",
            "_view_count": null,
            "_view_module": "@jupyter-widgets/controls",
            "_view_module_version": "1.5.0",
            "_view_name": "HTMLView",
            "description": "",
            "description_tooltip": null,
            "layout": "IPY_MODEL_a1208a7b4c75465aa4aaacf7b35dfb5a",
            "placeholder": "​",
            "style": "IPY_MODEL_13d0b5670c0c4d9f9d1e30ec83647b47",
            "value": "Epoch 0:  32%"
          }
        },
        "7cf0c3c5c3be4ff69cb3ff6ffe935752": {
          "model_module": "@jupyter-widgets/controls",
          "model_name": "FloatProgressModel",
          "model_module_version": "1.5.0",
          "state": {
            "_dom_classes": [],
            "_model_module": "@jupyter-widgets/controls",
            "_model_module_version": "1.5.0",
            "_model_name": "FloatProgressModel",
            "_view_count": null,
            "_view_module": "@jupyter-widgets/controls",
            "_view_module_version": "1.5.0",
            "_view_name": "ProgressView",
            "bar_style": "",
            "description": "",
            "description_tooltip": null,
            "layout": "IPY_MODEL_5ae3c63f1c374f2ba12278887f7d4a64",
            "max": 6251,
            "min": 0,
            "orientation": "horizontal",
            "style": "IPY_MODEL_3282b3c4ae3b4508838ca204976b3377",
            "value": 2000
          }
        },
        "f2c7372aff8a4f649aa66b7949681deb": {
          "model_module": "@jupyter-widgets/controls",
          "model_name": "HTMLModel",
          "model_module_version": "1.5.0",
          "state": {
            "_dom_classes": [],
            "_model_module": "@jupyter-widgets/controls",
            "_model_module_version": "1.5.0",
            "_model_name": "HTMLModel",
            "_view_count": null,
            "_view_module": "@jupyter-widgets/controls",
            "_view_module_version": "1.5.0",
            "_view_name": "HTMLView",
            "description": "",
            "description_tooltip": null,
            "layout": "IPY_MODEL_50373343a49941e490af43b43d6fc9e2",
            "placeholder": "​",
            "style": "IPY_MODEL_041b2c96796a46619ed44fc799ba8919",
            "value": " 2000/6251 [40:38&lt;1:26:23,  1.22s/it, loss=0.253, v_num=0, acc=0.906]"
          }
        },
        "77457a49fb694c22961916ad6ff6f7ae": {
          "model_module": "@jupyter-widgets/base",
          "model_name": "LayoutModel",
          "model_module_version": "1.2.0",
          "state": {
            "_model_module": "@jupyter-widgets/base",
            "_model_module_version": "1.2.0",
            "_model_name": "LayoutModel",
            "_view_count": null,
            "_view_module": "@jupyter-widgets/base",
            "_view_module_version": "1.2.0",
            "_view_name": "LayoutView",
            "align_content": null,
            "align_items": null,
            "align_self": null,
            "border": null,
            "bottom": null,
            "display": "inline-flex",
            "flex": null,
            "flex_flow": "row wrap",
            "grid_area": null,
            "grid_auto_columns": null,
            "grid_auto_flow": null,
            "grid_auto_rows": null,
            "grid_column": null,
            "grid_gap": null,
            "grid_row": null,
            "grid_template_areas": null,
            "grid_template_columns": null,
            "grid_template_rows": null,
            "height": null,
            "justify_content": null,
            "justify_items": null,
            "left": null,
            "margin": null,
            "max_height": null,
            "max_width": null,
            "min_height": null,
            "min_width": null,
            "object_fit": null,
            "object_position": null,
            "order": null,
            "overflow": null,
            "overflow_x": null,
            "overflow_y": null,
            "padding": null,
            "right": null,
            "top": null,
            "visibility": null,
            "width": "100%"
          }
        },
        "a1208a7b4c75465aa4aaacf7b35dfb5a": {
          "model_module": "@jupyter-widgets/base",
          "model_name": "LayoutModel",
          "model_module_version": "1.2.0",
          "state": {
            "_model_module": "@jupyter-widgets/base",
            "_model_module_version": "1.2.0",
            "_model_name": "LayoutModel",
            "_view_count": null,
            "_view_module": "@jupyter-widgets/base",
            "_view_module_version": "1.2.0",
            "_view_name": "LayoutView",
            "align_content": null,
            "align_items": null,
            "align_self": null,
            "border": null,
            "bottom": null,
            "display": null,
            "flex": null,
            "flex_flow": null,
            "grid_area": null,
            "grid_auto_columns": null,
            "grid_auto_flow": null,
            "grid_auto_rows": null,
            "grid_column": null,
            "grid_gap": null,
            "grid_row": null,
            "grid_template_areas": null,
            "grid_template_columns": null,
            "grid_template_rows": null,
            "height": null,
            "justify_content": null,
            "justify_items": null,
            "left": null,
            "margin": null,
            "max_height": null,
            "max_width": null,
            "min_height": null,
            "min_width": null,
            "object_fit": null,
            "object_position": null,
            "order": null,
            "overflow": null,
            "overflow_x": null,
            "overflow_y": null,
            "padding": null,
            "right": null,
            "top": null,
            "visibility": null,
            "width": null
          }
        },
        "13d0b5670c0c4d9f9d1e30ec83647b47": {
          "model_module": "@jupyter-widgets/controls",
          "model_name": "DescriptionStyleModel",
          "model_module_version": "1.5.0",
          "state": {
            "_model_module": "@jupyter-widgets/controls",
            "_model_module_version": "1.5.0",
            "_model_name": "DescriptionStyleModel",
            "_view_count": null,
            "_view_module": "@jupyter-widgets/base",
            "_view_module_version": "1.2.0",
            "_view_name": "StyleView",
            "description_width": ""
          }
        },
        "5ae3c63f1c374f2ba12278887f7d4a64": {
          "model_module": "@jupyter-widgets/base",
          "model_name": "LayoutModel",
          "model_module_version": "1.2.0",
          "state": {
            "_model_module": "@jupyter-widgets/base",
            "_model_module_version": "1.2.0",
            "_model_name": "LayoutModel",
            "_view_count": null,
            "_view_module": "@jupyter-widgets/base",
            "_view_module_version": "1.2.0",
            "_view_name": "LayoutView",
            "align_content": null,
            "align_items": null,
            "align_self": null,
            "border": null,
            "bottom": null,
            "display": null,
            "flex": "2",
            "flex_flow": null,
            "grid_area": null,
            "grid_auto_columns": null,
            "grid_auto_flow": null,
            "grid_auto_rows": null,
            "grid_column": null,
            "grid_gap": null,
            "grid_row": null,
            "grid_template_areas": null,
            "grid_template_columns": null,
            "grid_template_rows": null,
            "height": null,
            "justify_content": null,
            "justify_items": null,
            "left": null,
            "margin": null,
            "max_height": null,
            "max_width": null,
            "min_height": null,
            "min_width": null,
            "object_fit": null,
            "object_position": null,
            "order": null,
            "overflow": null,
            "overflow_x": null,
            "overflow_y": null,
            "padding": null,
            "right": null,
            "top": null,
            "visibility": null,
            "width": null
          }
        },
        "3282b3c4ae3b4508838ca204976b3377": {
          "model_module": "@jupyter-widgets/controls",
          "model_name": "ProgressStyleModel",
          "model_module_version": "1.5.0",
          "state": {
            "_model_module": "@jupyter-widgets/controls",
            "_model_module_version": "1.5.0",
            "_model_name": "ProgressStyleModel",
            "_view_count": null,
            "_view_module": "@jupyter-widgets/base",
            "_view_module_version": "1.2.0",
            "_view_name": "StyleView",
            "bar_color": null,
            "description_width": ""
          }
        },
        "50373343a49941e490af43b43d6fc9e2": {
          "model_module": "@jupyter-widgets/base",
          "model_name": "LayoutModel",
          "model_module_version": "1.2.0",
          "state": {
            "_model_module": "@jupyter-widgets/base",
            "_model_module_version": "1.2.0",
            "_model_name": "LayoutModel",
            "_view_count": null,
            "_view_module": "@jupyter-widgets/base",
            "_view_module_version": "1.2.0",
            "_view_name": "LayoutView",
            "align_content": null,
            "align_items": null,
            "align_self": null,
            "border": null,
            "bottom": null,
            "display": null,
            "flex": null,
            "flex_flow": null,
            "grid_area": null,
            "grid_auto_columns": null,
            "grid_auto_flow": null,
            "grid_auto_rows": null,
            "grid_column": null,
            "grid_gap": null,
            "grid_row": null,
            "grid_template_areas": null,
            "grid_template_columns": null,
            "grid_template_rows": null,
            "height": null,
            "justify_content": null,
            "justify_items": null,
            "left": null,
            "margin": null,
            "max_height": null,
            "max_width": null,
            "min_height": null,
            "min_width": null,
            "object_fit": null,
            "object_position": null,
            "order": null,
            "overflow": null,
            "overflow_x": null,
            "overflow_y": null,
            "padding": null,
            "right": null,
            "top": null,
            "visibility": null,
            "width": null
          }
        },
        "041b2c96796a46619ed44fc799ba8919": {
          "model_module": "@jupyter-widgets/controls",
          "model_name": "DescriptionStyleModel",
          "model_module_version": "1.5.0",
          "state": {
            "_model_module": "@jupyter-widgets/controls",
            "_model_module_version": "1.5.0",
            "_model_name": "DescriptionStyleModel",
            "_view_count": null,
            "_view_module": "@jupyter-widgets/base",
            "_view_module_version": "1.2.0",
            "_view_name": "StyleView",
            "description_width": ""
          }
        }
      }
    }
  },
  "cells": [
    {
      "cell_type": "markdown",
      "metadata": {
        "id": "p36hSZiX6RNF"
      },
      "source": [
        "# 패키지 설치하기\n"
      ]
    },
    {
      "cell_type": "markdown",
      "metadata": {
        "id": "YixrCxo8O8N_"
      },
      "source": [
        "의존성 있는 패키지를 설치: 자연어 처리 실습을 위한 패키지 (https://github.com/ratsgo/ratsnlp)"
      ]
    },
    {
      "cell_type": "code",
      "metadata": {
        "id": "0U3MeuPe4HkP",
        "outputId": "5a0ed183-31e8-4bef-fb4c-3252fde5a82b",
        "colab": {
          "base_uri": "https://localhost:8080/"
        }
      },
      "source": [
        "!pip install ratsnlp"
      ],
      "execution_count": 1,
      "outputs": [
        {
          "output_type": "stream",
          "name": "stdout",
          "text": [
            "Collecting ratsnlp\n",
            "  Downloading ratsnlp-1.0.5-py3-none-any.whl (42 kB)\n",
            "\u001b[K     |████████████████████████████████| 42 kB 543 kB/s \n",
            "\u001b[?25hCollecting torchtext==0.11.0\n",
            "  Downloading torchtext-0.11.0-cp37-cp37m-manylinux1_x86_64.whl (8.0 MB)\n",
            "\u001b[K     |████████████████████████████████| 8.0 MB 1.6 MB/s \n",
            "\u001b[?25hCollecting torchmetrics==0.7.3\n",
            "  Downloading torchmetrics-0.7.3-py3-none-any.whl (398 kB)\n",
            "\u001b[K     |████████████████████████████████| 398 kB 42.9 MB/s \n",
            "\u001b[?25hCollecting flask-cors>=3.0.10\n",
            "  Downloading Flask_Cors-3.0.10-py2.py3-none-any.whl (14 kB)\n",
            "Collecting transformers==4.10.0\n",
            "  Downloading transformers-4.10.0-py3-none-any.whl (2.8 MB)\n",
            "\u001b[K     |████████████████████████████████| 2.8 MB 36.6 MB/s \n",
            "\u001b[?25hRequirement already satisfied: flask>=1.1.4 in /usr/local/lib/python3.7/dist-packages (from ratsnlp) (1.1.4)\n",
            "Collecting pytorch-lightning==1.3.4\n",
            "  Downloading pytorch_lightning-1.3.4-py3-none-any.whl (806 kB)\n",
            "\u001b[K     |████████████████████████████████| 806 kB 42.7 MB/s \n",
            "\u001b[?25hCollecting flask-ngrok>=0.0.25\n",
            "  Downloading flask_ngrok-0.0.25-py3-none-any.whl (3.1 kB)\n",
            "Collecting Korpora>=0.2.0\n",
            "  Downloading Korpora-0.2.0-py3-none-any.whl (57 kB)\n",
            "\u001b[K     |████████████████████████████████| 57 kB 5.5 MB/s \n",
            "\u001b[?25hCollecting fsspec[http]>=2021.4.0\n",
            "  Downloading fsspec-2022.3.0-py3-none-any.whl (136 kB)\n",
            "\u001b[K     |████████████████████████████████| 136 kB 43.6 MB/s \n",
            "\u001b[?25hCollecting PyYAML<=5.4.1,>=5.1\n",
            "  Downloading PyYAML-5.4.1-cp37-cp37m-manylinux1_x86_64.whl (636 kB)\n",
            "\u001b[K     |████████████████████████████████| 636 kB 43.5 MB/s \n",
            "\u001b[?25hRequirement already satisfied: tqdm>=4.41.0 in /usr/local/lib/python3.7/dist-packages (from pytorch-lightning==1.3.4->ratsnlp) (4.64.0)\n",
            "Collecting future>=0.17.1\n",
            "  Downloading future-0.18.2.tar.gz (829 kB)\n",
            "\u001b[K     |████████████████████████████████| 829 kB 44.4 MB/s \n",
            "\u001b[?25hRequirement already satisfied: torch>=1.4 in /usr/local/lib/python3.7/dist-packages (from pytorch-lightning==1.3.4->ratsnlp) (1.11.0+cu113)\n",
            "Requirement already satisfied: tensorboard!=2.5.0,>=2.2.0 in /usr/local/lib/python3.7/dist-packages (from pytorch-lightning==1.3.4->ratsnlp) (2.8.0)\n",
            "Collecting pyDeprecate==0.3.0\n",
            "  Downloading pyDeprecate-0.3.0-py3-none-any.whl (10 kB)\n",
            "Requirement already satisfied: packaging in /usr/local/lib/python3.7/dist-packages (from pytorch-lightning==1.3.4->ratsnlp) (21.3)\n",
            "Requirement already satisfied: numpy>=1.17.2 in /usr/local/lib/python3.7/dist-packages (from pytorch-lightning==1.3.4->ratsnlp) (1.21.6)\n",
            "Requirement already satisfied: requests in /usr/local/lib/python3.7/dist-packages (from torchtext==0.11.0->ratsnlp) (2.23.0)\n",
            "Collecting torch>=1.4\n",
            "  Downloading torch-1.10.0-cp37-cp37m-manylinux1_x86_64.whl (881.9 MB)\n",
            "\u001b[K     |██████████████████████████████▎ | 834.1 MB 1.2 MB/s eta 0:00:39tcmalloc: large alloc 1147494400 bytes == 0x320e000 @  0x7fd2e2ca4615 0x592b76 0x4df71e 0x59afff 0x515655 0x549576 0x593fce 0x548ae9 0x51566f 0x549576 0x593fce 0x548ae9 0x5127f1 0x598e3b 0x511f68 0x598e3b 0x511f68 0x598e3b 0x511f68 0x4bc98a 0x532e76 0x594b72 0x515600 0x549576 0x593fce 0x548ae9 0x5127f1 0x549576 0x593fce 0x5118f8 0x593dd7\n",
            "\u001b[K     |████████████████████████████████| 881.9 MB 19 kB/s \n",
            "\u001b[?25hRequirement already satisfied: typing-extensions in /usr/local/lib/python3.7/dist-packages (from torch>=1.4->pytorch-lightning==1.3.4->ratsnlp) (4.2.0)\n",
            "Collecting tokenizers<0.11,>=0.10.1\n",
            "  Downloading tokenizers-0.10.3-cp37-cp37m-manylinux_2_5_x86_64.manylinux1_x86_64.manylinux_2_12_x86_64.manylinux2010_x86_64.whl (3.3 MB)\n",
            "\u001b[K     |████████████████████████████████| 3.3 MB 36.1 MB/s \n",
            "\u001b[?25hCollecting huggingface-hub>=0.0.12\n",
            "  Downloading huggingface_hub-0.5.1-py3-none-any.whl (77 kB)\n",
            "\u001b[K     |████████████████████████████████| 77 kB 6.1 MB/s \n",
            "\u001b[?25hCollecting sacremoses\n",
            "  Downloading sacremoses-0.0.49-py3-none-any.whl (895 kB)\n",
            "\u001b[K     |████████████████████████████████| 895 kB 41.3 MB/s \n",
            "\u001b[?25hRequirement already satisfied: importlib-metadata in /usr/local/lib/python3.7/dist-packages (from transformers==4.10.0->ratsnlp) (4.11.3)\n",
            "Requirement already satisfied: filelock in /usr/local/lib/python3.7/dist-packages (from transformers==4.10.0->ratsnlp) (3.6.0)\n",
            "Requirement already satisfied: regex!=2019.12.17 in /usr/local/lib/python3.7/dist-packages (from transformers==4.10.0->ratsnlp) (2019.12.20)\n",
            "Requirement already satisfied: Jinja2<3.0,>=2.10.1 in /usr/local/lib/python3.7/dist-packages (from flask>=1.1.4->ratsnlp) (2.11.3)\n",
            "Requirement already satisfied: Werkzeug<2.0,>=0.15 in /usr/local/lib/python3.7/dist-packages (from flask>=1.1.4->ratsnlp) (1.0.1)\n",
            "Requirement already satisfied: click<8.0,>=5.1 in /usr/local/lib/python3.7/dist-packages (from flask>=1.1.4->ratsnlp) (7.1.2)\n",
            "Requirement already satisfied: itsdangerous<2.0,>=0.24 in /usr/local/lib/python3.7/dist-packages (from flask>=1.1.4->ratsnlp) (1.1.0)\n",
            "Requirement already satisfied: Six in /usr/local/lib/python3.7/dist-packages (from flask-cors>=3.0.10->ratsnlp) (1.15.0)\n",
            "Collecting aiohttp\n",
            "  Downloading aiohttp-3.8.1-cp37-cp37m-manylinux_2_5_x86_64.manylinux1_x86_64.manylinux_2_12_x86_64.manylinux2010_x86_64.whl (1.1 MB)\n",
            "\u001b[K     |████████████████████████████████| 1.1 MB 37.8 MB/s \n",
            "\u001b[?25hRequirement already satisfied: MarkupSafe>=0.23 in /usr/local/lib/python3.7/dist-packages (from Jinja2<3.0,>=2.10.1->flask>=1.1.4->ratsnlp) (2.0.1)\n",
            "Collecting dataclasses>=0.6\n",
            "  Downloading dataclasses-0.6-py3-none-any.whl (14 kB)\n",
            "Collecting xlrd>=1.2.0\n",
            "  Downloading xlrd-2.0.1-py2.py3-none-any.whl (96 kB)\n",
            "\u001b[K     |████████████████████████████████| 96 kB 4.9 MB/s \n",
            "\u001b[?25hRequirement already satisfied: pyparsing!=3.0.5,>=2.0.2 in /usr/local/lib/python3.7/dist-packages (from packaging->pytorch-lightning==1.3.4->ratsnlp) (3.0.8)\n",
            "Requirement already satisfied: chardet<4,>=3.0.2 in /usr/local/lib/python3.7/dist-packages (from requests->torchtext==0.11.0->ratsnlp) (3.0.4)\n",
            "Requirement already satisfied: urllib3!=1.25.0,!=1.25.1,<1.26,>=1.21.1 in /usr/local/lib/python3.7/dist-packages (from requests->torchtext==0.11.0->ratsnlp) (1.24.3)\n",
            "Requirement already satisfied: certifi>=2017.4.17 in /usr/local/lib/python3.7/dist-packages (from requests->torchtext==0.11.0->ratsnlp) (2021.10.8)\n",
            "Requirement already satisfied: idna<3,>=2.5 in /usr/local/lib/python3.7/dist-packages (from requests->torchtext==0.11.0->ratsnlp) (2.10)\n",
            "Requirement already satisfied: markdown>=2.6.8 in /usr/local/lib/python3.7/dist-packages (from tensorboard!=2.5.0,>=2.2.0->pytorch-lightning==1.3.4->ratsnlp) (3.3.6)\n",
            "Requirement already satisfied: protobuf>=3.6.0 in /usr/local/lib/python3.7/dist-packages (from tensorboard!=2.5.0,>=2.2.0->pytorch-lightning==1.3.4->ratsnlp) (3.17.3)\n",
            "Requirement already satisfied: absl-py>=0.4 in /usr/local/lib/python3.7/dist-packages (from tensorboard!=2.5.0,>=2.2.0->pytorch-lightning==1.3.4->ratsnlp) (1.0.0)\n",
            "Requirement already satisfied: wheel>=0.26 in /usr/local/lib/python3.7/dist-packages (from tensorboard!=2.5.0,>=2.2.0->pytorch-lightning==1.3.4->ratsnlp) (0.37.1)\n",
            "Requirement already satisfied: google-auth-oauthlib<0.5,>=0.4.1 in /usr/local/lib/python3.7/dist-packages (from tensorboard!=2.5.0,>=2.2.0->pytorch-lightning==1.3.4->ratsnlp) (0.4.6)\n",
            "Requirement already satisfied: tensorboard-plugin-wit>=1.6.0 in /usr/local/lib/python3.7/dist-packages (from tensorboard!=2.5.0,>=2.2.0->pytorch-lightning==1.3.4->ratsnlp) (1.8.1)\n",
            "Requirement already satisfied: google-auth<3,>=1.6.3 in /usr/local/lib/python3.7/dist-packages (from tensorboard!=2.5.0,>=2.2.0->pytorch-lightning==1.3.4->ratsnlp) (1.35.0)\n",
            "Requirement already satisfied: setuptools>=41.0.0 in /usr/local/lib/python3.7/dist-packages (from tensorboard!=2.5.0,>=2.2.0->pytorch-lightning==1.3.4->ratsnlp) (57.4.0)\n",
            "Requirement already satisfied: grpcio>=1.24.3 in /usr/local/lib/python3.7/dist-packages (from tensorboard!=2.5.0,>=2.2.0->pytorch-lightning==1.3.4->ratsnlp) (1.44.0)\n",
            "Requirement already satisfied: tensorboard-data-server<0.7.0,>=0.6.0 in /usr/local/lib/python3.7/dist-packages (from tensorboard!=2.5.0,>=2.2.0->pytorch-lightning==1.3.4->ratsnlp) (0.6.1)\n",
            "Requirement already satisfied: rsa<5,>=3.1.4 in /usr/local/lib/python3.7/dist-packages (from google-auth<3,>=1.6.3->tensorboard!=2.5.0,>=2.2.0->pytorch-lightning==1.3.4->ratsnlp) (4.8)\n",
            "Requirement already satisfied: cachetools<5.0,>=2.0.0 in /usr/local/lib/python3.7/dist-packages (from google-auth<3,>=1.6.3->tensorboard!=2.5.0,>=2.2.0->pytorch-lightning==1.3.4->ratsnlp) (4.2.4)\n",
            "Requirement already satisfied: pyasn1-modules>=0.2.1 in /usr/local/lib/python3.7/dist-packages (from google-auth<3,>=1.6.3->tensorboard!=2.5.0,>=2.2.0->pytorch-lightning==1.3.4->ratsnlp) (0.2.8)\n",
            "Requirement already satisfied: requests-oauthlib>=0.7.0 in /usr/local/lib/python3.7/dist-packages (from google-auth-oauthlib<0.5,>=0.4.1->tensorboard!=2.5.0,>=2.2.0->pytorch-lightning==1.3.4->ratsnlp) (1.3.1)\n",
            "Requirement already satisfied: zipp>=0.5 in /usr/local/lib/python3.7/dist-packages (from importlib-metadata->transformers==4.10.0->ratsnlp) (3.8.0)\n",
            "Requirement already satisfied: pyasn1<0.5.0,>=0.4.6 in /usr/local/lib/python3.7/dist-packages (from pyasn1-modules>=0.2.1->google-auth<3,>=1.6.3->tensorboard!=2.5.0,>=2.2.0->pytorch-lightning==1.3.4->ratsnlp) (0.4.8)\n",
            "Requirement already satisfied: oauthlib>=3.0.0 in /usr/local/lib/python3.7/dist-packages (from requests-oauthlib>=0.7.0->google-auth-oauthlib<0.5,>=0.4.1->tensorboard!=2.5.0,>=2.2.0->pytorch-lightning==1.3.4->ratsnlp) (3.2.0)\n",
            "Collecting async-timeout<5.0,>=4.0.0a3\n",
            "  Downloading async_timeout-4.0.2-py3-none-any.whl (5.8 kB)\n",
            "Collecting multidict<7.0,>=4.5\n",
            "  Downloading multidict-6.0.2-cp37-cp37m-manylinux_2_17_x86_64.manylinux2014_x86_64.whl (94 kB)\n",
            "\u001b[K     |████████████████████████████████| 94 kB 2.9 MB/s \n",
            "\u001b[?25hCollecting frozenlist>=1.1.1\n",
            "  Downloading frozenlist-1.3.0-cp37-cp37m-manylinux_2_5_x86_64.manylinux1_x86_64.manylinux_2_17_x86_64.manylinux2014_x86_64.whl (144 kB)\n",
            "\u001b[K     |████████████████████████████████| 144 kB 46.3 MB/s \n",
            "\u001b[?25hCollecting aiosignal>=1.1.2\n",
            "  Downloading aiosignal-1.2.0-py3-none-any.whl (8.2 kB)\n",
            "Collecting yarl<2.0,>=1.0\n",
            "  Downloading yarl-1.7.2-cp37-cp37m-manylinux_2_5_x86_64.manylinux1_x86_64.manylinux_2_12_x86_64.manylinux2010_x86_64.whl (271 kB)\n",
            "\u001b[K     |████████████████████████████████| 271 kB 48.6 MB/s \n",
            "\u001b[?25hRequirement already satisfied: attrs>=17.3.0 in /usr/local/lib/python3.7/dist-packages (from aiohttp->fsspec[http]>=2021.4.0->pytorch-lightning==1.3.4->ratsnlp) (21.4.0)\n",
            "Requirement already satisfied: charset-normalizer<3.0,>=2.0 in /usr/local/lib/python3.7/dist-packages (from aiohttp->fsspec[http]>=2021.4.0->pytorch-lightning==1.3.4->ratsnlp) (2.0.12)\n",
            "Collecting asynctest==0.13.0\n",
            "  Downloading asynctest-0.13.0-py3-none-any.whl (26 kB)\n",
            "Requirement already satisfied: joblib in /usr/local/lib/python3.7/dist-packages (from sacremoses->transformers==4.10.0->ratsnlp) (1.1.0)\n",
            "Building wheels for collected packages: future\n",
            "  Building wheel for future (setup.py) ... \u001b[?25l\u001b[?25hdone\n",
            "  Created wheel for future: filename=future-0.18.2-py3-none-any.whl size=491070 sha256=29b9320b03a6e9dbb5e34c8a7b0399aef346a2b57fffab5aeffa373854de6463\n",
            "  Stored in directory: /root/.cache/pip/wheels/56/b0/fe/4410d17b32f1f0c3cf54cdfb2bc04d7b4b8f4ae377e2229ba0\n",
            "Successfully built future\n",
            "Installing collected packages: multidict, frozenlist, yarl, asynctest, async-timeout, aiosignal, torch, PyYAML, pyDeprecate, fsspec, aiohttp, xlrd, torchmetrics, tokenizers, sacremoses, huggingface-hub, future, dataclasses, transformers, torchtext, pytorch-lightning, Korpora, flask-ngrok, flask-cors, ratsnlp\n",
            "  Attempting uninstall: torch\n",
            "    Found existing installation: torch 1.11.0+cu113\n",
            "    Uninstalling torch-1.11.0+cu113:\n",
            "      Successfully uninstalled torch-1.11.0+cu113\n",
            "  Attempting uninstall: PyYAML\n",
            "    Found existing installation: PyYAML 3.13\n",
            "    Uninstalling PyYAML-3.13:\n",
            "      Successfully uninstalled PyYAML-3.13\n",
            "  Attempting uninstall: xlrd\n",
            "    Found existing installation: xlrd 1.1.0\n",
            "    Uninstalling xlrd-1.1.0:\n",
            "      Successfully uninstalled xlrd-1.1.0\n",
            "  Attempting uninstall: future\n",
            "    Found existing installation: future 0.16.0\n",
            "    Uninstalling future-0.16.0:\n",
            "      Successfully uninstalled future-0.16.0\n",
            "  Attempting uninstall: torchtext\n",
            "    Found existing installation: torchtext 0.12.0\n",
            "    Uninstalling torchtext-0.12.0:\n",
            "      Successfully uninstalled torchtext-0.12.0\n",
            "\u001b[31mERROR: pip's dependency resolver does not currently take into account all the packages that are installed. This behaviour is the source of the following dependency conflicts.\n",
            "torchvision 0.12.0+cu113 requires torch==1.11.0, but you have torch 1.10.0 which is incompatible.\n",
            "torchaudio 0.11.0+cu113 requires torch==1.11.0, but you have torch 1.10.0 which is incompatible.\u001b[0m\n",
            "Successfully installed Korpora-0.2.0 PyYAML-5.4.1 aiohttp-3.8.1 aiosignal-1.2.0 async-timeout-4.0.2 asynctest-0.13.0 dataclasses-0.6 flask-cors-3.0.10 flask-ngrok-0.0.25 frozenlist-1.3.0 fsspec-2022.3.0 future-0.18.2 huggingface-hub-0.5.1 multidict-6.0.2 pyDeprecate-0.3.0 pytorch-lightning-1.3.4 ratsnlp-1.0.5 sacremoses-0.0.49 tokenizers-0.10.3 torch-1.10.0 torchmetrics-0.7.3 torchtext-0.11.0 transformers-4.10.0 xlrd-2.0.1 yarl-1.7.2\n"
          ]
        }
      ]
    },
    {
      "cell_type": "markdown",
      "metadata": {
        "id": "Skjaa0Gk6d_X"
      },
      "source": [
        "# 구글 드라이브 연동하기\n",
        "모델 체크포인트 등을 저장해 둘 구글 드라이브를 연결합니다. 자신의 구글 계정에 적용됩니다."
      ]
    },
    {
      "cell_type": "code",
      "metadata": {
        "id": "QQCGKzLXJuED",
        "outputId": "90cb83c4-e19c-4425-c8fd-7e85868b8c85",
        "colab": {
          "base_uri": "https://localhost:8080/"
        }
      },
      "source": [
        "from google.colab import drive\n",
        "drive.mount('/gdrive', force_remount=True)"
      ],
      "execution_count": 2,
      "outputs": [
        {
          "output_type": "stream",
          "name": "stdout",
          "text": [
            "Mounted at /gdrive\n"
          ]
        }
      ]
    },
    {
      "cell_type": "markdown",
      "metadata": {
        "id": "ML-ubp246uzI"
      },
      "source": [
        "# 각종 설정\n",
        "모델 하이퍼파라메터(hyperparameter)와 저장 위치 등 설정 정보를 선언합니다."
      ]
    },
    {
      "cell_type": "code",
      "metadata": {
        "id": "dtoPBSH4v31j",
        "outputId": "e47f3287-2eb4-4cba-bc0e-df2540443a25",
        "colab": {
          "base_uri": "https://localhost:8080/"
        }
      },
      "source": [
        "#모델 환경 설정\n",
        "import torch\n",
        "from ratsnlp.nlpbook.classification import ClassificationTrainArguments #ratsnlp에서 classification을 위한 argument들 불러옴\n",
        "args = ClassificationTrainArguments(\n",
        "    pretrained_model_name=\"beomi/kcbert-base\", #pretain을 마친 kcbert-base 모델 활용\n",
        "    downstream_corpus_name=\"nsmc\", #downstream taks에 사용할 데이터 \n",
        "    downstream_model_dir=\"/gdrive/My Drive/nlpbook/checkpoint-doccls\", #모델 저장 경로\n",
        "    batch_size=32 if torch.cuda.is_available() else 4,\n",
        "    learning_rate=5e-5, #배치 크기 \n",
        "    max_seq_length=128, #토큰 기준 입력 문장의 최대 길이 \n",
        "    epochs=3,\n",
        "    tpu_cores=0 if torch.cuda.is_available() else 8,\n",
        "    seed=7,\n",
        ")"
      ],
      "execution_count": 3,
      "outputs": [
        {
          "output_type": "stream",
          "name": "stderr",
          "text": [
            "/usr/local/lib/python3.7/dist-packages/torchvision/io/image.py:13: UserWarning: Failed to load image Python extension: libtorch_cuda_cu.so: cannot open shared object file: No such file or directory\n",
            "  warn(f\"Failed to load image Python extension: {e}\")\n"
          ]
        }
      ]
    },
    {
      "cell_type": "markdown",
      "source": [
        "토큰 기준 입력 문장의 최대 길이 지정 이유 <br>\n",
        "- AI는 길이가 같은 문장에 대하여 병렬 처리 가능함. 따라서 문장의 길이를 동일하게 맞춰줄 필요가 있음. \n",
        "- 너무 긴 문장은 최대 길이를 넘어가면 잘라주고, 짧은 문장은 [PAD] 라는 special token으로 자리를 채워 길이를 맞춰줌."
      ],
      "metadata": {
        "id": "c9q9nl06Hqtb"
      }
    },
    {
      "cell_type": "markdown",
      "metadata": {
        "id": "48RjaTAr7D4M"
      },
      "source": [
        "# 랜덤 시드 고정\n",
        "학습 재현을 위해 랜덤 시드를 고정합니다."
      ]
    },
    {
      "cell_type": "code",
      "metadata": {
        "id": "HuacSUSd7JRf",
        "outputId": "d58d795c-34e4-4932-a678-9ec94ca08adc",
        "colab": {
          "base_uri": "https://localhost:8080/"
        }
      },
      "source": [
        "from ratsnlp import nlpbook\n",
        "nlpbook.set_seed(args)"
      ],
      "execution_count": 4,
      "outputs": [
        {
          "output_type": "stream",
          "name": "stdout",
          "text": [
            "set seed: 7\n"
          ]
        }
      ]
    },
    {
      "cell_type": "markdown",
      "metadata": {
        "id": "FeTvf0bc9bbV"
      },
      "source": [
        "# 로거 설정\n",
        "메세지 출력 등을 위한 logger를 설정합니다."
      ]
    },
    {
      "cell_type": "code",
      "metadata": {
        "id": "251gdehZ9iPZ",
        "outputId": "fa34d48e-14e9-4e1c-ef9c-17ab29be2890",
        "colab": {
          "base_uri": "https://localhost:8080/"
        }
      },
      "source": [
        "nlpbook.set_logger(args)"
      ],
      "execution_count": 5,
      "outputs": [
        {
          "output_type": "stream",
          "name": "stderr",
          "text": [
            "INFO:ratsnlp:Training/evaluation parameters ClassificationTrainArguments(pretrained_model_name='beomi/kcbert-base', downstream_task_name='document-classification', downstream_corpus_name='nsmc', downstream_corpus_root_dir='/content/Korpora', downstream_model_dir='/gdrive/My Drive/nlpbook/checkpoint-doccls', max_seq_length=128, save_top_k=1, monitor='min val_loss', seed=7, overwrite_cache=False, force_download=False, test_mode=False, learning_rate=5e-05, epochs=3, batch_size=32, cpu_workers=2, fp16=False, tpu_cores=0)\n"
          ]
        }
      ]
    },
    {
      "cell_type": "markdown",
      "metadata": {
        "id": "DqUazvWL7Pry"
      },
      "source": [
        "# 말뭉치 다운로드\n",
        "실습에 사용할 말뭉치(Naver Sentiment Movie review Corpus)를 다운로드: NSMC Data"
      ]
    },
    {
      "cell_type": "code",
      "metadata": {
        "id": "opyaJgPA7Zxi",
        "outputId": "0c28bd17-50a3-4787-8d5a-4d144295ab9c",
        "colab": {
          "base_uri": "https://localhost:8080/"
        }
      },
      "source": [
        "from Korpora import Korpora #데이터 내려받는 모듈 (https://github.com/ko-nlp/Korpora)\n",
        "Korpora.fetch(\n",
        "    corpus_name=args.downstream_corpus_name,\n",
        "    root_dir=args.downstream_corpus_root_dir,\n",
        "    force_download=True,\n",
        ")"
      ],
      "execution_count": 6,
      "outputs": [
        {
          "output_type": "stream",
          "name": "stderr",
          "text": [
            "[nsmc] download ratings_train.txt: 14.6MB [00:00, 22.0MB/s]                            \n",
            "[nsmc] download ratings_test.txt: 4.90MB [00:00, 34.2MB/s]                           \n"
          ]
        }
      ]
    },
    {
      "cell_type": "markdown",
      "metadata": {
        "id": "2DnwLCKB7cRq"
      },
      "source": [
        "# 토크나이저 준비\n",
        "토큰화를 수행하는 토크나이저를 선언: 문장을 token들의 모음으로 분절하는 과정"
      ]
    },
    {
      "cell_type": "code",
      "metadata": {
        "id": "OlcoBivi7hIY",
        "outputId": "82012dd4-d187-4bcf-b377-2b8615a78e02",
        "colab": {
          "base_uri": "https://localhost:8080/",
          "height": 113,
          "referenced_widgets": [
            "329ed9bd23fc4d34b5e84825b7507676",
            "a27cd563f03f4cc980319741c21412fc",
            "101414539dc04257b988932ac589ad01",
            "19391e758c944af89a75f4e3c422af44",
            "168009dc60be4e1fa15126f354a2184c",
            "3f4baad2d9c046b8b073c9b2a7cbb37d",
            "93609af96700474895a89b68c562b991",
            "1ddaa2ff95164b89a35b215efe4539b9",
            "8e8f578535bd4311bc4f8d829514fcbc",
            "e74c389b907c46668851515ede97bf64",
            "0c68789477024ddaaf4fd42e4687acdb",
            "ad3175f3008d4e139fe380f45dee290c",
            "25424d2c3f1949e4b0868d6f81ab9ac8",
            "e5cdc6b503204a69898566a33cdb7d3b",
            "456acef7840b4b2eb2fdb850b30e2a99",
            "9a7e1c5005db4662af07b26a4eaf0da2",
            "4257de13a2c84d20946583667539f952",
            "14312b93564741c6a33c68a37d1db7fa",
            "964628fd5d6947078a4c157a0200843d",
            "e9b0fe96273045388f2ac5bdaef983c4",
            "2ed5f1128a8b44b489b60403ac99efdf",
            "52d435b465d64e07ba3a9db85b887a3f",
            "eb8f1d7b2aff46f9a9d080370f55a2d8",
            "3ca901cd9bac4d388fcc642522ab8f5f",
            "c91f89ad2ebc44c799e1b5d53dcb7401",
            "dd5f28d3d7ed46699e43d2fccdda0cf3",
            "efe29b4c325642da9ad0f7b1c844fc84",
            "8cbfa601b4254d53aa528d174e530f30",
            "f22c7a807dec411dbaa4d29c86abb500",
            "aeca92970093487988a65d6d9e04361d",
            "4a25ef10c81448998171b78280cf9e62",
            "41be9dfb57214739ad56d4709e181618",
            "1741251817e140a8ab4e4baf8047d194"
          ]
        }
      },
      "source": [
        "from transformers import BertTokenizer\n",
        "tokenizer = BertTokenizer.from_pretrained(\n",
        "    args.pretrained_model_name,\n",
        "    do_lower_case=False,\n",
        ")"
      ],
      "execution_count": 7,
      "outputs": [
        {
          "output_type": "display_data",
          "data": {
            "text/plain": [
              "Downloading:   0%|          | 0.00/250k [00:00<?, ?B/s]"
            ],
            "application/vnd.jupyter.widget-view+json": {
              "version_major": 2,
              "version_minor": 0,
              "model_id": "329ed9bd23fc4d34b5e84825b7507676"
            }
          },
          "metadata": {}
        },
        {
          "output_type": "display_data",
          "data": {
            "text/plain": [
              "Downloading:   0%|          | 0.00/49.0 [00:00<?, ?B/s]"
            ],
            "application/vnd.jupyter.widget-view+json": {
              "version_major": 2,
              "version_minor": 0,
              "model_id": "ad3175f3008d4e139fe380f45dee290c"
            }
          },
          "metadata": {}
        },
        {
          "output_type": "display_data",
          "data": {
            "text/plain": [
              "Downloading:   0%|          | 0.00/619 [00:00<?, ?B/s]"
            ],
            "application/vnd.jupyter.widget-view+json": {
              "version_major": 2,
              "version_minor": 0,
              "model_id": "eb8f1d7b2aff46f9a9d080370f55a2d8"
            }
          },
          "metadata": {}
        }
      ]
    },
    {
      "cell_type": "markdown",
      "metadata": {
        "id": "hZbLCM5e7i6g"
      },
      "source": [
        "# train data 구축\n",
        "- torch에서는 Dataset과 DataLoader라는 기능을 통해 미니 배치 학습이나 데이터 셔플, 병렬 처리등을 간단하게 할 수 있음\n",
        "- train data를 배치 딘위로 모델에 공급해주기 위해 DataLoader에서는 Dataset에 있는 요소들을 배치 크기만큼 뽑아 정해진 형식에 맞춰 배치를 만들어줌. \n",
        "- 상황에 맞게 배치 단위의 데이터를 뽑아 사용하므로 연산량을 줄일 수 있음. "
      ]
    },
    {
      "cell_type": "code",
      "metadata": {
        "id": "v9s8znA17ovP",
        "outputId": "169c6684-540a-4b4c-fdbc-7f57a47c7c43",
        "colab": {
          "base_uri": "https://localhost:8080/"
        }
      },
      "source": [
        "from torch.utils.data import DataLoader, SequentialSampler, RandomSampler\n",
        "from ratsnlp.nlpbook.classification import NsmcCorpus, ClassificationDataset\n",
        "corpus = NsmcCorpus()\n",
        "##ClassificationDataset\n",
        "#데이터와 tokenizer 포함 \n",
        "#NsmcCorpus가 넘겨준 문장과 Label을 토큰화하여 모델이 학습할 수 있는 형태로 변환\n",
        "train_dataset = ClassificationDataset( \n",
        "    args=args,\n",
        "    corpus=corpus,\n",
        "    tokenizer=tokenizer,\n",
        "    mode=\"train\",\n",
        ")\n",
        "train_dataloader = DataLoader(\n",
        "    train_dataset,\n",
        "    batch_size=args.batch_size,\n",
        "    sampler=RandomSampler(train_dataset, replacement=False), #샘플링 방식: 비복원 랜덤 추출\n",
        "    collate_fn=nlpbook.data_collator, #배치로 만드는 역할하는 함수 \n",
        "    drop_last=False,\n",
        "    num_workers=args.cpu_workers,\n",
        ")"
      ],
      "execution_count": 8,
      "outputs": [
        {
          "output_type": "stream",
          "name": "stderr",
          "text": [
            "INFO:ratsnlp:Creating features from dataset file at /content/Korpora/nsmc\n",
            "INFO:ratsnlp:loading train data... LOOKING AT /content/Korpora/nsmc/ratings_train.txt\n",
            "INFO:ratsnlp:tokenize sentences, it could take a lot of time...\n",
            "INFO:ratsnlp:tokenize sentences [took 44.581 s]\n",
            "INFO:ratsnlp:*** Example ***\n",
            "INFO:ratsnlp:sentence: 아 더빙.. 진짜 짜증나네요 목소리\n",
            "INFO:ratsnlp:tokens: [CLS] 아 더 ##빙 . . 진짜 짜증나네 ##요 목소리 [SEP] [PAD] [PAD] [PAD] [PAD] [PAD] [PAD] [PAD] [PAD] [PAD] [PAD] [PAD] [PAD] [PAD] [PAD] [PAD] [PAD] [PAD] [PAD] [PAD] [PAD] [PAD] [PAD] [PAD] [PAD] [PAD] [PAD] [PAD] [PAD] [PAD] [PAD] [PAD] [PAD] [PAD] [PAD] [PAD] [PAD] [PAD] [PAD] [PAD] [PAD] [PAD] [PAD] [PAD] [PAD] [PAD] [PAD] [PAD] [PAD] [PAD] [PAD] [PAD] [PAD] [PAD] [PAD] [PAD] [PAD] [PAD] [PAD] [PAD] [PAD] [PAD] [PAD] [PAD] [PAD] [PAD] [PAD] [PAD] [PAD] [PAD] [PAD] [PAD] [PAD] [PAD] [PAD] [PAD] [PAD] [PAD] [PAD] [PAD] [PAD] [PAD] [PAD] [PAD] [PAD] [PAD] [PAD] [PAD] [PAD] [PAD] [PAD] [PAD] [PAD] [PAD] [PAD] [PAD] [PAD] [PAD] [PAD] [PAD] [PAD] [PAD] [PAD] [PAD] [PAD] [PAD] [PAD] [PAD] [PAD] [PAD] [PAD] [PAD] [PAD] [PAD] [PAD] [PAD] [PAD] [PAD]\n",
            "INFO:ratsnlp:label: 0\n",
            "INFO:ratsnlp:features: ClassificationFeatures(input_ids=[2, 2170, 832, 5045, 17, 17, 7992, 29734, 4040, 10720, 3, 0, 0, 0, 0, 0, 0, 0, 0, 0, 0, 0, 0, 0, 0, 0, 0, 0, 0, 0, 0, 0, 0, 0, 0, 0, 0, 0, 0, 0, 0, 0, 0, 0, 0, 0, 0, 0, 0, 0, 0, 0, 0, 0, 0, 0, 0, 0, 0, 0, 0, 0, 0, 0, 0, 0, 0, 0, 0, 0, 0, 0, 0, 0, 0, 0, 0, 0, 0, 0, 0, 0, 0, 0, 0, 0, 0, 0, 0, 0, 0, 0, 0, 0, 0, 0, 0, 0, 0, 0, 0, 0, 0, 0, 0, 0, 0, 0, 0, 0, 0, 0, 0, 0, 0, 0, 0, 0, 0, 0, 0, 0, 0, 0, 0, 0, 0, 0], attention_mask=[1, 1, 1, 1, 1, 1, 1, 1, 1, 1, 1, 0, 0, 0, 0, 0, 0, 0, 0, 0, 0, 0, 0, 0, 0, 0, 0, 0, 0, 0, 0, 0, 0, 0, 0, 0, 0, 0, 0, 0, 0, 0, 0, 0, 0, 0, 0, 0, 0, 0, 0, 0, 0, 0, 0, 0, 0, 0, 0, 0, 0, 0, 0, 0, 0, 0, 0, 0, 0, 0, 0, 0, 0, 0, 0, 0, 0, 0, 0, 0, 0, 0, 0, 0, 0, 0, 0, 0, 0, 0, 0, 0, 0, 0, 0, 0, 0, 0, 0, 0, 0, 0, 0, 0, 0, 0, 0, 0, 0, 0, 0, 0, 0, 0, 0, 0, 0, 0, 0, 0, 0, 0, 0, 0, 0, 0, 0, 0], token_type_ids=[0, 0, 0, 0, 0, 0, 0, 0, 0, 0, 0, 0, 0, 0, 0, 0, 0, 0, 0, 0, 0, 0, 0, 0, 0, 0, 0, 0, 0, 0, 0, 0, 0, 0, 0, 0, 0, 0, 0, 0, 0, 0, 0, 0, 0, 0, 0, 0, 0, 0, 0, 0, 0, 0, 0, 0, 0, 0, 0, 0, 0, 0, 0, 0, 0, 0, 0, 0, 0, 0, 0, 0, 0, 0, 0, 0, 0, 0, 0, 0, 0, 0, 0, 0, 0, 0, 0, 0, 0, 0, 0, 0, 0, 0, 0, 0, 0, 0, 0, 0, 0, 0, 0, 0, 0, 0, 0, 0, 0, 0, 0, 0, 0, 0, 0, 0, 0, 0, 0, 0, 0, 0, 0, 0, 0, 0, 0, 0], label=0)\n",
            "INFO:ratsnlp:*** Example ***\n",
            "INFO:ratsnlp:sentence: 흠...포스터보고 초딩영화줄....오버연기조차 가볍지 않구나\n",
            "INFO:ratsnlp:tokens: [CLS] 흠 . . . 포 ##스터 ##보고 초딩 ##영화 ##줄 . . . . 오버 ##연기 ##조차 가볍 ##지 않 ##구나 [SEP] [PAD] [PAD] [PAD] [PAD] [PAD] [PAD] [PAD] [PAD] [PAD] [PAD] [PAD] [PAD] [PAD] [PAD] [PAD] [PAD] [PAD] [PAD] [PAD] [PAD] [PAD] [PAD] [PAD] [PAD] [PAD] [PAD] [PAD] [PAD] [PAD] [PAD] [PAD] [PAD] [PAD] [PAD] [PAD] [PAD] [PAD] [PAD] [PAD] [PAD] [PAD] [PAD] [PAD] [PAD] [PAD] [PAD] [PAD] [PAD] [PAD] [PAD] [PAD] [PAD] [PAD] [PAD] [PAD] [PAD] [PAD] [PAD] [PAD] [PAD] [PAD] [PAD] [PAD] [PAD] [PAD] [PAD] [PAD] [PAD] [PAD] [PAD] [PAD] [PAD] [PAD] [PAD] [PAD] [PAD] [PAD] [PAD] [PAD] [PAD] [PAD] [PAD] [PAD] [PAD] [PAD] [PAD] [PAD] [PAD] [PAD] [PAD] [PAD] [PAD] [PAD] [PAD] [PAD] [PAD] [PAD] [PAD] [PAD] [PAD] [PAD] [PAD] [PAD] [PAD] [PAD]\n",
            "INFO:ratsnlp:label: 1\n",
            "INFO:ratsnlp:features: ClassificationFeatures(input_ids=[2, 3521, 17, 17, 17, 3294, 13069, 8190, 10635, 13796, 4006, 17, 17, 17, 17, 17613, 19625, 9790, 17775, 4102, 2175, 8030, 3, 0, 0, 0, 0, 0, 0, 0, 0, 0, 0, 0, 0, 0, 0, 0, 0, 0, 0, 0, 0, 0, 0, 0, 0, 0, 0, 0, 0, 0, 0, 0, 0, 0, 0, 0, 0, 0, 0, 0, 0, 0, 0, 0, 0, 0, 0, 0, 0, 0, 0, 0, 0, 0, 0, 0, 0, 0, 0, 0, 0, 0, 0, 0, 0, 0, 0, 0, 0, 0, 0, 0, 0, 0, 0, 0, 0, 0, 0, 0, 0, 0, 0, 0, 0, 0, 0, 0, 0, 0, 0, 0, 0, 0, 0, 0, 0, 0, 0, 0, 0, 0, 0, 0, 0, 0], attention_mask=[1, 1, 1, 1, 1, 1, 1, 1, 1, 1, 1, 1, 1, 1, 1, 1, 1, 1, 1, 1, 1, 1, 1, 0, 0, 0, 0, 0, 0, 0, 0, 0, 0, 0, 0, 0, 0, 0, 0, 0, 0, 0, 0, 0, 0, 0, 0, 0, 0, 0, 0, 0, 0, 0, 0, 0, 0, 0, 0, 0, 0, 0, 0, 0, 0, 0, 0, 0, 0, 0, 0, 0, 0, 0, 0, 0, 0, 0, 0, 0, 0, 0, 0, 0, 0, 0, 0, 0, 0, 0, 0, 0, 0, 0, 0, 0, 0, 0, 0, 0, 0, 0, 0, 0, 0, 0, 0, 0, 0, 0, 0, 0, 0, 0, 0, 0, 0, 0, 0, 0, 0, 0, 0, 0, 0, 0, 0, 0], token_type_ids=[0, 0, 0, 0, 0, 0, 0, 0, 0, 0, 0, 0, 0, 0, 0, 0, 0, 0, 0, 0, 0, 0, 0, 0, 0, 0, 0, 0, 0, 0, 0, 0, 0, 0, 0, 0, 0, 0, 0, 0, 0, 0, 0, 0, 0, 0, 0, 0, 0, 0, 0, 0, 0, 0, 0, 0, 0, 0, 0, 0, 0, 0, 0, 0, 0, 0, 0, 0, 0, 0, 0, 0, 0, 0, 0, 0, 0, 0, 0, 0, 0, 0, 0, 0, 0, 0, 0, 0, 0, 0, 0, 0, 0, 0, 0, 0, 0, 0, 0, 0, 0, 0, 0, 0, 0, 0, 0, 0, 0, 0, 0, 0, 0, 0, 0, 0, 0, 0, 0, 0, 0, 0, 0, 0, 0, 0, 0, 0], label=1)\n",
            "INFO:ratsnlp:*** Example ***\n",
            "INFO:ratsnlp:sentence: 너무재밓었다그래서보는것을추천한다\n",
            "INFO:ratsnlp:tokens: [CLS] 너무 ##재 ##밓 ##었다 ##그래 ##서 ##보는 ##것을 ##추 ##천 ##한다 [SEP] [PAD] [PAD] [PAD] [PAD] [PAD] [PAD] [PAD] [PAD] [PAD] [PAD] [PAD] [PAD] [PAD] [PAD] [PAD] [PAD] [PAD] [PAD] [PAD] [PAD] [PAD] [PAD] [PAD] [PAD] [PAD] [PAD] [PAD] [PAD] [PAD] [PAD] [PAD] [PAD] [PAD] [PAD] [PAD] [PAD] [PAD] [PAD] [PAD] [PAD] [PAD] [PAD] [PAD] [PAD] [PAD] [PAD] [PAD] [PAD] [PAD] [PAD] [PAD] [PAD] [PAD] [PAD] [PAD] [PAD] [PAD] [PAD] [PAD] [PAD] [PAD] [PAD] [PAD] [PAD] [PAD] [PAD] [PAD] [PAD] [PAD] [PAD] [PAD] [PAD] [PAD] [PAD] [PAD] [PAD] [PAD] [PAD] [PAD] [PAD] [PAD] [PAD] [PAD] [PAD] [PAD] [PAD] [PAD] [PAD] [PAD] [PAD] [PAD] [PAD] [PAD] [PAD] [PAD] [PAD] [PAD] [PAD] [PAD] [PAD] [PAD] [PAD] [PAD] [PAD] [PAD] [PAD] [PAD] [PAD] [PAD] [PAD] [PAD] [PAD] [PAD] [PAD] [PAD]\n",
            "INFO:ratsnlp:label: 0\n",
            "INFO:ratsnlp:features: ClassificationFeatures(input_ids=[2, 8069, 4089, 7847, 8217, 9791, 4072, 9136, 8750, 4142, 4244, 8008, 3, 0, 0, 0, 0, 0, 0, 0, 0, 0, 0, 0, 0, 0, 0, 0, 0, 0, 0, 0, 0, 0, 0, 0, 0, 0, 0, 0, 0, 0, 0, 0, 0, 0, 0, 0, 0, 0, 0, 0, 0, 0, 0, 0, 0, 0, 0, 0, 0, 0, 0, 0, 0, 0, 0, 0, 0, 0, 0, 0, 0, 0, 0, 0, 0, 0, 0, 0, 0, 0, 0, 0, 0, 0, 0, 0, 0, 0, 0, 0, 0, 0, 0, 0, 0, 0, 0, 0, 0, 0, 0, 0, 0, 0, 0, 0, 0, 0, 0, 0, 0, 0, 0, 0, 0, 0, 0, 0, 0, 0, 0, 0, 0, 0, 0, 0], attention_mask=[1, 1, 1, 1, 1, 1, 1, 1, 1, 1, 1, 1, 1, 0, 0, 0, 0, 0, 0, 0, 0, 0, 0, 0, 0, 0, 0, 0, 0, 0, 0, 0, 0, 0, 0, 0, 0, 0, 0, 0, 0, 0, 0, 0, 0, 0, 0, 0, 0, 0, 0, 0, 0, 0, 0, 0, 0, 0, 0, 0, 0, 0, 0, 0, 0, 0, 0, 0, 0, 0, 0, 0, 0, 0, 0, 0, 0, 0, 0, 0, 0, 0, 0, 0, 0, 0, 0, 0, 0, 0, 0, 0, 0, 0, 0, 0, 0, 0, 0, 0, 0, 0, 0, 0, 0, 0, 0, 0, 0, 0, 0, 0, 0, 0, 0, 0, 0, 0, 0, 0, 0, 0, 0, 0, 0, 0, 0, 0], token_type_ids=[0, 0, 0, 0, 0, 0, 0, 0, 0, 0, 0, 0, 0, 0, 0, 0, 0, 0, 0, 0, 0, 0, 0, 0, 0, 0, 0, 0, 0, 0, 0, 0, 0, 0, 0, 0, 0, 0, 0, 0, 0, 0, 0, 0, 0, 0, 0, 0, 0, 0, 0, 0, 0, 0, 0, 0, 0, 0, 0, 0, 0, 0, 0, 0, 0, 0, 0, 0, 0, 0, 0, 0, 0, 0, 0, 0, 0, 0, 0, 0, 0, 0, 0, 0, 0, 0, 0, 0, 0, 0, 0, 0, 0, 0, 0, 0, 0, 0, 0, 0, 0, 0, 0, 0, 0, 0, 0, 0, 0, 0, 0, 0, 0, 0, 0, 0, 0, 0, 0, 0, 0, 0, 0, 0, 0, 0, 0, 0], label=0)\n",
            "INFO:ratsnlp:*** Example ***\n",
            "INFO:ratsnlp:sentence: 교도소 이야기구먼 ..솔직히 재미는 없다..평점 조정\n",
            "INFO:ratsnlp:tokens: [CLS] 교도소 이야기 ##구먼 . . 솔직히 재미 ##는 없다 . . 평 ##점 조정 [SEP] [PAD] [PAD] [PAD] [PAD] [PAD] [PAD] [PAD] [PAD] [PAD] [PAD] [PAD] [PAD] [PAD] [PAD] [PAD] [PAD] [PAD] [PAD] [PAD] [PAD] [PAD] [PAD] [PAD] [PAD] [PAD] [PAD] [PAD] [PAD] [PAD] [PAD] [PAD] [PAD] [PAD] [PAD] [PAD] [PAD] [PAD] [PAD] [PAD] [PAD] [PAD] [PAD] [PAD] [PAD] [PAD] [PAD] [PAD] [PAD] [PAD] [PAD] [PAD] [PAD] [PAD] [PAD] [PAD] [PAD] [PAD] [PAD] [PAD] [PAD] [PAD] [PAD] [PAD] [PAD] [PAD] [PAD] [PAD] [PAD] [PAD] [PAD] [PAD] [PAD] [PAD] [PAD] [PAD] [PAD] [PAD] [PAD] [PAD] [PAD] [PAD] [PAD] [PAD] [PAD] [PAD] [PAD] [PAD] [PAD] [PAD] [PAD] [PAD] [PAD] [PAD] [PAD] [PAD] [PAD] [PAD] [PAD] [PAD] [PAD] [PAD] [PAD] [PAD] [PAD] [PAD] [PAD] [PAD] [PAD] [PAD] [PAD] [PAD] [PAD]\n",
            "INFO:ratsnlp:label: 0\n",
            "INFO:ratsnlp:features: ClassificationFeatures(input_ids=[2, 12164, 9089, 9828, 17, 17, 8876, 10827, 4008, 8131, 17, 17, 3288, 4213, 16612, 3, 0, 0, 0, 0, 0, 0, 0, 0, 0, 0, 0, 0, 0, 0, 0, 0, 0, 0, 0, 0, 0, 0, 0, 0, 0, 0, 0, 0, 0, 0, 0, 0, 0, 0, 0, 0, 0, 0, 0, 0, 0, 0, 0, 0, 0, 0, 0, 0, 0, 0, 0, 0, 0, 0, 0, 0, 0, 0, 0, 0, 0, 0, 0, 0, 0, 0, 0, 0, 0, 0, 0, 0, 0, 0, 0, 0, 0, 0, 0, 0, 0, 0, 0, 0, 0, 0, 0, 0, 0, 0, 0, 0, 0, 0, 0, 0, 0, 0, 0, 0, 0, 0, 0, 0, 0, 0, 0, 0, 0, 0, 0, 0], attention_mask=[1, 1, 1, 1, 1, 1, 1, 1, 1, 1, 1, 1, 1, 1, 1, 1, 0, 0, 0, 0, 0, 0, 0, 0, 0, 0, 0, 0, 0, 0, 0, 0, 0, 0, 0, 0, 0, 0, 0, 0, 0, 0, 0, 0, 0, 0, 0, 0, 0, 0, 0, 0, 0, 0, 0, 0, 0, 0, 0, 0, 0, 0, 0, 0, 0, 0, 0, 0, 0, 0, 0, 0, 0, 0, 0, 0, 0, 0, 0, 0, 0, 0, 0, 0, 0, 0, 0, 0, 0, 0, 0, 0, 0, 0, 0, 0, 0, 0, 0, 0, 0, 0, 0, 0, 0, 0, 0, 0, 0, 0, 0, 0, 0, 0, 0, 0, 0, 0, 0, 0, 0, 0, 0, 0, 0, 0, 0, 0], token_type_ids=[0, 0, 0, 0, 0, 0, 0, 0, 0, 0, 0, 0, 0, 0, 0, 0, 0, 0, 0, 0, 0, 0, 0, 0, 0, 0, 0, 0, 0, 0, 0, 0, 0, 0, 0, 0, 0, 0, 0, 0, 0, 0, 0, 0, 0, 0, 0, 0, 0, 0, 0, 0, 0, 0, 0, 0, 0, 0, 0, 0, 0, 0, 0, 0, 0, 0, 0, 0, 0, 0, 0, 0, 0, 0, 0, 0, 0, 0, 0, 0, 0, 0, 0, 0, 0, 0, 0, 0, 0, 0, 0, 0, 0, 0, 0, 0, 0, 0, 0, 0, 0, 0, 0, 0, 0, 0, 0, 0, 0, 0, 0, 0, 0, 0, 0, 0, 0, 0, 0, 0, 0, 0, 0, 0, 0, 0, 0, 0], label=0)\n",
            "INFO:ratsnlp:*** Example ***\n",
            "INFO:ratsnlp:sentence: 사이몬페그의 익살스런 연기가 돋보였던 영화!스파이더맨에서 늙어보이기만 했던 커스틴 던스트가 너무나도 이뻐보였다\n",
            "INFO:ratsnlp:tokens: [CLS] 사이 ##몬 ##페 ##그 ##의 익 ##살 ##스런 연기 ##가 돋 ##보 ##였던 영화 ! 스파이 ##더 ##맨 ##에서 늙어 ##보이 ##기만 했던 커 ##스 ##틴 던 ##스트 ##가 너무나도 이뻐 ##보 ##였다 [SEP] [PAD] [PAD] [PAD] [PAD] [PAD] [PAD] [PAD] [PAD] [PAD] [PAD] [PAD] [PAD] [PAD] [PAD] [PAD] [PAD] [PAD] [PAD] [PAD] [PAD] [PAD] [PAD] [PAD] [PAD] [PAD] [PAD] [PAD] [PAD] [PAD] [PAD] [PAD] [PAD] [PAD] [PAD] [PAD] [PAD] [PAD] [PAD] [PAD] [PAD] [PAD] [PAD] [PAD] [PAD] [PAD] [PAD] [PAD] [PAD] [PAD] [PAD] [PAD] [PAD] [PAD] [PAD] [PAD] [PAD] [PAD] [PAD] [PAD] [PAD] [PAD] [PAD] [PAD] [PAD] [PAD] [PAD] [PAD] [PAD] [PAD] [PAD] [PAD] [PAD] [PAD] [PAD] [PAD] [PAD] [PAD] [PAD] [PAD] [PAD] [PAD] [PAD] [PAD] [PAD] [PAD] [PAD] [PAD] [PAD] [PAD] [PAD] [PAD] [PAD] [PAD]\n",
            "INFO:ratsnlp:label: 1\n",
            "INFO:ratsnlp:features: ClassificationFeatures(input_ids=[2, 8538, 4880, 4335, 4313, 4042, 2452, 4471, 10670, 11219, 4009, 870, 4010, 13043, 9376, 5, 24034, 4356, 4617, 7971, 22878, 11980, 9235, 10129, 3010, 4103, 4713, 834, 8795, 4009, 22110, 23997, 4010, 9827, 3, 0, 0, 0, 0, 0, 0, 0, 0, 0, 0, 0, 0, 0, 0, 0, 0, 0, 0, 0, 0, 0, 0, 0, 0, 0, 0, 0, 0, 0, 0, 0, 0, 0, 0, 0, 0, 0, 0, 0, 0, 0, 0, 0, 0, 0, 0, 0, 0, 0, 0, 0, 0, 0, 0, 0, 0, 0, 0, 0, 0, 0, 0, 0, 0, 0, 0, 0, 0, 0, 0, 0, 0, 0, 0, 0, 0, 0, 0, 0, 0, 0, 0, 0, 0, 0, 0, 0, 0, 0, 0, 0, 0, 0], attention_mask=[1, 1, 1, 1, 1, 1, 1, 1, 1, 1, 1, 1, 1, 1, 1, 1, 1, 1, 1, 1, 1, 1, 1, 1, 1, 1, 1, 1, 1, 1, 1, 1, 1, 1, 1, 0, 0, 0, 0, 0, 0, 0, 0, 0, 0, 0, 0, 0, 0, 0, 0, 0, 0, 0, 0, 0, 0, 0, 0, 0, 0, 0, 0, 0, 0, 0, 0, 0, 0, 0, 0, 0, 0, 0, 0, 0, 0, 0, 0, 0, 0, 0, 0, 0, 0, 0, 0, 0, 0, 0, 0, 0, 0, 0, 0, 0, 0, 0, 0, 0, 0, 0, 0, 0, 0, 0, 0, 0, 0, 0, 0, 0, 0, 0, 0, 0, 0, 0, 0, 0, 0, 0, 0, 0, 0, 0, 0, 0], token_type_ids=[0, 0, 0, 0, 0, 0, 0, 0, 0, 0, 0, 0, 0, 0, 0, 0, 0, 0, 0, 0, 0, 0, 0, 0, 0, 0, 0, 0, 0, 0, 0, 0, 0, 0, 0, 0, 0, 0, 0, 0, 0, 0, 0, 0, 0, 0, 0, 0, 0, 0, 0, 0, 0, 0, 0, 0, 0, 0, 0, 0, 0, 0, 0, 0, 0, 0, 0, 0, 0, 0, 0, 0, 0, 0, 0, 0, 0, 0, 0, 0, 0, 0, 0, 0, 0, 0, 0, 0, 0, 0, 0, 0, 0, 0, 0, 0, 0, 0, 0, 0, 0, 0, 0, 0, 0, 0, 0, 0, 0, 0, 0, 0, 0, 0, 0, 0, 0, 0, 0, 0, 0, 0, 0, 0, 0, 0, 0, 0], label=1)\n",
            "INFO:ratsnlp:Saving features into cached file, it could take a lot of time...\n",
            "INFO:ratsnlp:Saving features into cached file /content/Korpora/nsmc/cached_train_BertTokenizer_128_nsmc_document-classification [took 21.390 s]\n"
          ]
        }
      ]
    },
    {
      "cell_type": "markdown",
      "source": [
        "![KakaoTalk_Photo_2022-05-01-10-18-26.jpeg](data:image/jpeg;base64,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)"
      ],
      "metadata": {
        "id": "G_Voj_toMloV"
      }
    },
    {
      "cell_type": "markdown",
      "metadata": {
        "id": "SOAACuBY7vem"
      },
      "source": [
        "# 테스트 데이터 구축\n",
        "학습 중에 평가할 테스트 데이터를 구축합니다."
      ]
    },
    {
      "cell_type": "code",
      "metadata": {
        "id": "mcm1tgfq7y84",
        "outputId": "4447c178-e5ba-4179-d9c4-4c3c4a573035",
        "colab": {
          "base_uri": "https://localhost:8080/"
        }
      },
      "source": [
        "val_dataset = ClassificationDataset(\n",
        "    args=args,\n",
        "    corpus=corpus,\n",
        "    tokenizer=tokenizer,\n",
        "    mode=\"test\",\n",
        ")\n",
        "val_dataloader = DataLoader(\n",
        "    val_dataset,\n",
        "    batch_size=args.batch_size,\n",
        "    sampler=SequentialSampler(val_dataset), #validation 시에는 data 전체를 다 사용하기 때문에 굳이 random하게 해줄 필요 없음. \n",
        "    collate_fn=nlpbook.data_collator,\n",
        "    drop_last=False,\n",
        "    num_workers=args.cpu_workers,\n",
        ")\n"
      ],
      "execution_count": 9,
      "outputs": [
        {
          "output_type": "stream",
          "name": "stderr",
          "text": [
            "INFO:ratsnlp:Creating features from dataset file at /content/Korpora/nsmc\n",
            "INFO:ratsnlp:loading test data... LOOKING AT /content/Korpora/nsmc/ratings_test.txt\n",
            "INFO:ratsnlp:tokenize sentences, it could take a lot of time...\n",
            "INFO:ratsnlp:tokenize sentences [took 14.269 s]\n",
            "INFO:ratsnlp:*** Example ***\n",
            "INFO:ratsnlp:sentence: 굳 ㅋ\n",
            "INFO:ratsnlp:tokens: [CLS] 굳 ㅋ [SEP] [PAD] [PAD] [PAD] [PAD] [PAD] [PAD] [PAD] [PAD] [PAD] [PAD] [PAD] [PAD] [PAD] [PAD] [PAD] [PAD] [PAD] [PAD] [PAD] [PAD] [PAD] [PAD] [PAD] [PAD] [PAD] [PAD] [PAD] [PAD] [PAD] [PAD] [PAD] [PAD] [PAD] [PAD] [PAD] [PAD] [PAD] [PAD] [PAD] [PAD] [PAD] [PAD] [PAD] [PAD] [PAD] [PAD] [PAD] [PAD] [PAD] [PAD] [PAD] [PAD] [PAD] [PAD] [PAD] [PAD] [PAD] [PAD] [PAD] [PAD] [PAD] [PAD] [PAD] [PAD] [PAD] [PAD] [PAD] [PAD] [PAD] [PAD] [PAD] [PAD] [PAD] [PAD] [PAD] [PAD] [PAD] [PAD] [PAD] [PAD] [PAD] [PAD] [PAD] [PAD] [PAD] [PAD] [PAD] [PAD] [PAD] [PAD] [PAD] [PAD] [PAD] [PAD] [PAD] [PAD] [PAD] [PAD] [PAD] [PAD] [PAD] [PAD] [PAD] [PAD] [PAD] [PAD] [PAD] [PAD] [PAD] [PAD] [PAD] [PAD] [PAD] [PAD] [PAD] [PAD] [PAD] [PAD] [PAD] [PAD] [PAD] [PAD] [PAD] [PAD]\n",
            "INFO:ratsnlp:label: 1\n",
            "INFO:ratsnlp:features: ClassificationFeatures(input_ids=[2, 352, 192, 3, 0, 0, 0, 0, 0, 0, 0, 0, 0, 0, 0, 0, 0, 0, 0, 0, 0, 0, 0, 0, 0, 0, 0, 0, 0, 0, 0, 0, 0, 0, 0, 0, 0, 0, 0, 0, 0, 0, 0, 0, 0, 0, 0, 0, 0, 0, 0, 0, 0, 0, 0, 0, 0, 0, 0, 0, 0, 0, 0, 0, 0, 0, 0, 0, 0, 0, 0, 0, 0, 0, 0, 0, 0, 0, 0, 0, 0, 0, 0, 0, 0, 0, 0, 0, 0, 0, 0, 0, 0, 0, 0, 0, 0, 0, 0, 0, 0, 0, 0, 0, 0, 0, 0, 0, 0, 0, 0, 0, 0, 0, 0, 0, 0, 0, 0, 0, 0, 0, 0, 0, 0, 0, 0, 0], attention_mask=[1, 1, 1, 1, 0, 0, 0, 0, 0, 0, 0, 0, 0, 0, 0, 0, 0, 0, 0, 0, 0, 0, 0, 0, 0, 0, 0, 0, 0, 0, 0, 0, 0, 0, 0, 0, 0, 0, 0, 0, 0, 0, 0, 0, 0, 0, 0, 0, 0, 0, 0, 0, 0, 0, 0, 0, 0, 0, 0, 0, 0, 0, 0, 0, 0, 0, 0, 0, 0, 0, 0, 0, 0, 0, 0, 0, 0, 0, 0, 0, 0, 0, 0, 0, 0, 0, 0, 0, 0, 0, 0, 0, 0, 0, 0, 0, 0, 0, 0, 0, 0, 0, 0, 0, 0, 0, 0, 0, 0, 0, 0, 0, 0, 0, 0, 0, 0, 0, 0, 0, 0, 0, 0, 0, 0, 0, 0, 0], token_type_ids=[0, 0, 0, 0, 0, 0, 0, 0, 0, 0, 0, 0, 0, 0, 0, 0, 0, 0, 0, 0, 0, 0, 0, 0, 0, 0, 0, 0, 0, 0, 0, 0, 0, 0, 0, 0, 0, 0, 0, 0, 0, 0, 0, 0, 0, 0, 0, 0, 0, 0, 0, 0, 0, 0, 0, 0, 0, 0, 0, 0, 0, 0, 0, 0, 0, 0, 0, 0, 0, 0, 0, 0, 0, 0, 0, 0, 0, 0, 0, 0, 0, 0, 0, 0, 0, 0, 0, 0, 0, 0, 0, 0, 0, 0, 0, 0, 0, 0, 0, 0, 0, 0, 0, 0, 0, 0, 0, 0, 0, 0, 0, 0, 0, 0, 0, 0, 0, 0, 0, 0, 0, 0, 0, 0, 0, 0, 0, 0], label=1)\n",
            "INFO:ratsnlp:*** Example ***\n",
            "INFO:ratsnlp:sentence: GDNTOPCLASSINTHECLUB\n",
            "INFO:ratsnlp:tokens: [CLS] G ##D ##N ##TO ##P ##C ##L ##A ##S ##S ##I ##N ##T ##H ##E ##C ##L ##U ##B [SEP] [PAD] [PAD] [PAD] [PAD] [PAD] [PAD] [PAD] [PAD] [PAD] [PAD] [PAD] [PAD] [PAD] [PAD] [PAD] [PAD] [PAD] [PAD] [PAD] [PAD] [PAD] [PAD] [PAD] [PAD] [PAD] [PAD] [PAD] [PAD] [PAD] [PAD] [PAD] [PAD] [PAD] [PAD] [PAD] [PAD] [PAD] [PAD] [PAD] [PAD] [PAD] [PAD] [PAD] [PAD] [PAD] [PAD] [PAD] [PAD] [PAD] [PAD] [PAD] [PAD] [PAD] [PAD] [PAD] [PAD] [PAD] [PAD] [PAD] [PAD] [PAD] [PAD] [PAD] [PAD] [PAD] [PAD] [PAD] [PAD] [PAD] [PAD] [PAD] [PAD] [PAD] [PAD] [PAD] [PAD] [PAD] [PAD] [PAD] [PAD] [PAD] [PAD] [PAD] [PAD] [PAD] [PAD] [PAD] [PAD] [PAD] [PAD] [PAD] [PAD] [PAD] [PAD] [PAD] [PAD] [PAD] [PAD] [PAD] [PAD] [PAD] [PAD] [PAD] [PAD] [PAD] [PAD] [PAD]\n",
            "INFO:ratsnlp:label: 0\n",
            "INFO:ratsnlp:features: ClassificationFeatures(input_ids=[2, 40, 4452, 4581, 25144, 4579, 4881, 4450, 4580, 4985, 4985, 4506, 4581, 4850, 5121, 4451, 4881, 4450, 5167, 4756, 3, 0, 0, 0, 0, 0, 0, 0, 0, 0, 0, 0, 0, 0, 0, 0, 0, 0, 0, 0, 0, 0, 0, 0, 0, 0, 0, 0, 0, 0, 0, 0, 0, 0, 0, 0, 0, 0, 0, 0, 0, 0, 0, 0, 0, 0, 0, 0, 0, 0, 0, 0, 0, 0, 0, 0, 0, 0, 0, 0, 0, 0, 0, 0, 0, 0, 0, 0, 0, 0, 0, 0, 0, 0, 0, 0, 0, 0, 0, 0, 0, 0, 0, 0, 0, 0, 0, 0, 0, 0, 0, 0, 0, 0, 0, 0, 0, 0, 0, 0, 0, 0, 0, 0, 0, 0, 0, 0], attention_mask=[1, 1, 1, 1, 1, 1, 1, 1, 1, 1, 1, 1, 1, 1, 1, 1, 1, 1, 1, 1, 1, 0, 0, 0, 0, 0, 0, 0, 0, 0, 0, 0, 0, 0, 0, 0, 0, 0, 0, 0, 0, 0, 0, 0, 0, 0, 0, 0, 0, 0, 0, 0, 0, 0, 0, 0, 0, 0, 0, 0, 0, 0, 0, 0, 0, 0, 0, 0, 0, 0, 0, 0, 0, 0, 0, 0, 0, 0, 0, 0, 0, 0, 0, 0, 0, 0, 0, 0, 0, 0, 0, 0, 0, 0, 0, 0, 0, 0, 0, 0, 0, 0, 0, 0, 0, 0, 0, 0, 0, 0, 0, 0, 0, 0, 0, 0, 0, 0, 0, 0, 0, 0, 0, 0, 0, 0, 0, 0], token_type_ids=[0, 0, 0, 0, 0, 0, 0, 0, 0, 0, 0, 0, 0, 0, 0, 0, 0, 0, 0, 0, 0, 0, 0, 0, 0, 0, 0, 0, 0, 0, 0, 0, 0, 0, 0, 0, 0, 0, 0, 0, 0, 0, 0, 0, 0, 0, 0, 0, 0, 0, 0, 0, 0, 0, 0, 0, 0, 0, 0, 0, 0, 0, 0, 0, 0, 0, 0, 0, 0, 0, 0, 0, 0, 0, 0, 0, 0, 0, 0, 0, 0, 0, 0, 0, 0, 0, 0, 0, 0, 0, 0, 0, 0, 0, 0, 0, 0, 0, 0, 0, 0, 0, 0, 0, 0, 0, 0, 0, 0, 0, 0, 0, 0, 0, 0, 0, 0, 0, 0, 0, 0, 0, 0, 0, 0, 0, 0, 0], label=0)\n",
            "INFO:ratsnlp:*** Example ***\n",
            "INFO:ratsnlp:sentence: 뭐야 이 평점들은.... 나쁘진 않지만 10점 짜리는 더더욱 아니잖아\n",
            "INFO:ratsnlp:tokens: [CLS] 뭐야 이 평 ##점 ##들은 . . . . 나쁘 ##진 않지만 10 ##점 짜리 ##는 더더욱 아니잖아 [SEP] [PAD] [PAD] [PAD] [PAD] [PAD] [PAD] [PAD] [PAD] [PAD] [PAD] [PAD] [PAD] [PAD] [PAD] [PAD] [PAD] [PAD] [PAD] [PAD] [PAD] [PAD] [PAD] [PAD] [PAD] [PAD] [PAD] [PAD] [PAD] [PAD] [PAD] [PAD] [PAD] [PAD] [PAD] [PAD] [PAD] [PAD] [PAD] [PAD] [PAD] [PAD] [PAD] [PAD] [PAD] [PAD] [PAD] [PAD] [PAD] [PAD] [PAD] [PAD] [PAD] [PAD] [PAD] [PAD] [PAD] [PAD] [PAD] [PAD] [PAD] [PAD] [PAD] [PAD] [PAD] [PAD] [PAD] [PAD] [PAD] [PAD] [PAD] [PAD] [PAD] [PAD] [PAD] [PAD] [PAD] [PAD] [PAD] [PAD] [PAD] [PAD] [PAD] [PAD] [PAD] [PAD] [PAD] [PAD] [PAD] [PAD] [PAD] [PAD] [PAD] [PAD] [PAD] [PAD] [PAD] [PAD] [PAD] [PAD] [PAD] [PAD] [PAD] [PAD] [PAD] [PAD] [PAD] [PAD] [PAD]\n",
            "INFO:ratsnlp:label: 0\n",
            "INFO:ratsnlp:features: ClassificationFeatures(input_ids=[2, 10691, 2451, 3288, 4213, 7977, 17, 17, 17, 17, 10476, 4153, 15426, 8240, 4213, 21394, 4008, 15616, 13439, 3, 0, 0, 0, 0, 0, 0, 0, 0, 0, 0, 0, 0, 0, 0, 0, 0, 0, 0, 0, 0, 0, 0, 0, 0, 0, 0, 0, 0, 0, 0, 0, 0, 0, 0, 0, 0, 0, 0, 0, 0, 0, 0, 0, 0, 0, 0, 0, 0, 0, 0, 0, 0, 0, 0, 0, 0, 0, 0, 0, 0, 0, 0, 0, 0, 0, 0, 0, 0, 0, 0, 0, 0, 0, 0, 0, 0, 0, 0, 0, 0, 0, 0, 0, 0, 0, 0, 0, 0, 0, 0, 0, 0, 0, 0, 0, 0, 0, 0, 0, 0, 0, 0, 0, 0, 0, 0, 0, 0], attention_mask=[1, 1, 1, 1, 1, 1, 1, 1, 1, 1, 1, 1, 1, 1, 1, 1, 1, 1, 1, 1, 0, 0, 0, 0, 0, 0, 0, 0, 0, 0, 0, 0, 0, 0, 0, 0, 0, 0, 0, 0, 0, 0, 0, 0, 0, 0, 0, 0, 0, 0, 0, 0, 0, 0, 0, 0, 0, 0, 0, 0, 0, 0, 0, 0, 0, 0, 0, 0, 0, 0, 0, 0, 0, 0, 0, 0, 0, 0, 0, 0, 0, 0, 0, 0, 0, 0, 0, 0, 0, 0, 0, 0, 0, 0, 0, 0, 0, 0, 0, 0, 0, 0, 0, 0, 0, 0, 0, 0, 0, 0, 0, 0, 0, 0, 0, 0, 0, 0, 0, 0, 0, 0, 0, 0, 0, 0, 0, 0], token_type_ids=[0, 0, 0, 0, 0, 0, 0, 0, 0, 0, 0, 0, 0, 0, 0, 0, 0, 0, 0, 0, 0, 0, 0, 0, 0, 0, 0, 0, 0, 0, 0, 0, 0, 0, 0, 0, 0, 0, 0, 0, 0, 0, 0, 0, 0, 0, 0, 0, 0, 0, 0, 0, 0, 0, 0, 0, 0, 0, 0, 0, 0, 0, 0, 0, 0, 0, 0, 0, 0, 0, 0, 0, 0, 0, 0, 0, 0, 0, 0, 0, 0, 0, 0, 0, 0, 0, 0, 0, 0, 0, 0, 0, 0, 0, 0, 0, 0, 0, 0, 0, 0, 0, 0, 0, 0, 0, 0, 0, 0, 0, 0, 0, 0, 0, 0, 0, 0, 0, 0, 0, 0, 0, 0, 0, 0, 0, 0, 0], label=0)\n",
            "INFO:ratsnlp:*** Example ***\n",
            "INFO:ratsnlp:sentence: 지루하지는 않은데 완전 막장임... 돈주고 보기에는....\n",
            "INFO:ratsnlp:tokens: [CLS] 지 ##루 ##하지는 않은데 완전 막장 ##임 . . . 돈주고 보기에 ##는 . . . . [SEP] [PAD] [PAD] [PAD] [PAD] [PAD] [PAD] [PAD] [PAD] [PAD] [PAD] [PAD] [PAD] [PAD] [PAD] [PAD] [PAD] [PAD] [PAD] [PAD] [PAD] [PAD] [PAD] [PAD] [PAD] [PAD] [PAD] [PAD] [PAD] [PAD] [PAD] [PAD] [PAD] [PAD] [PAD] [PAD] [PAD] [PAD] [PAD] [PAD] [PAD] [PAD] [PAD] [PAD] [PAD] [PAD] [PAD] [PAD] [PAD] [PAD] [PAD] [PAD] [PAD] [PAD] [PAD] [PAD] [PAD] [PAD] [PAD] [PAD] [PAD] [PAD] [PAD] [PAD] [PAD] [PAD] [PAD] [PAD] [PAD] [PAD] [PAD] [PAD] [PAD] [PAD] [PAD] [PAD] [PAD] [PAD] [PAD] [PAD] [PAD] [PAD] [PAD] [PAD] [PAD] [PAD] [PAD] [PAD] [PAD] [PAD] [PAD] [PAD] [PAD] [PAD] [PAD] [PAD] [PAD] [PAD] [PAD] [PAD] [PAD] [PAD] [PAD] [PAD] [PAD] [PAD] [PAD] [PAD] [PAD] [PAD]\n",
            "INFO:ratsnlp:label: 0\n",
            "INFO:ratsnlp:features: ClassificationFeatures(input_ids=[2, 2688, 4532, 16036, 20879, 8357, 15971, 4252, 17, 17, 17, 13900, 25253, 4008, 17, 17, 17, 17, 3, 0, 0, 0, 0, 0, 0, 0, 0, 0, 0, 0, 0, 0, 0, 0, 0, 0, 0, 0, 0, 0, 0, 0, 0, 0, 0, 0, 0, 0, 0, 0, 0, 0, 0, 0, 0, 0, 0, 0, 0, 0, 0, 0, 0, 0, 0, 0, 0, 0, 0, 0, 0, 0, 0, 0, 0, 0, 0, 0, 0, 0, 0, 0, 0, 0, 0, 0, 0, 0, 0, 0, 0, 0, 0, 0, 0, 0, 0, 0, 0, 0, 0, 0, 0, 0, 0, 0, 0, 0, 0, 0, 0, 0, 0, 0, 0, 0, 0, 0, 0, 0, 0, 0, 0, 0, 0, 0, 0, 0], attention_mask=[1, 1, 1, 1, 1, 1, 1, 1, 1, 1, 1, 1, 1, 1, 1, 1, 1, 1, 1, 0, 0, 0, 0, 0, 0, 0, 0, 0, 0, 0, 0, 0, 0, 0, 0, 0, 0, 0, 0, 0, 0, 0, 0, 0, 0, 0, 0, 0, 0, 0, 0, 0, 0, 0, 0, 0, 0, 0, 0, 0, 0, 0, 0, 0, 0, 0, 0, 0, 0, 0, 0, 0, 0, 0, 0, 0, 0, 0, 0, 0, 0, 0, 0, 0, 0, 0, 0, 0, 0, 0, 0, 0, 0, 0, 0, 0, 0, 0, 0, 0, 0, 0, 0, 0, 0, 0, 0, 0, 0, 0, 0, 0, 0, 0, 0, 0, 0, 0, 0, 0, 0, 0, 0, 0, 0, 0, 0, 0], token_type_ids=[0, 0, 0, 0, 0, 0, 0, 0, 0, 0, 0, 0, 0, 0, 0, 0, 0, 0, 0, 0, 0, 0, 0, 0, 0, 0, 0, 0, 0, 0, 0, 0, 0, 0, 0, 0, 0, 0, 0, 0, 0, 0, 0, 0, 0, 0, 0, 0, 0, 0, 0, 0, 0, 0, 0, 0, 0, 0, 0, 0, 0, 0, 0, 0, 0, 0, 0, 0, 0, 0, 0, 0, 0, 0, 0, 0, 0, 0, 0, 0, 0, 0, 0, 0, 0, 0, 0, 0, 0, 0, 0, 0, 0, 0, 0, 0, 0, 0, 0, 0, 0, 0, 0, 0, 0, 0, 0, 0, 0, 0, 0, 0, 0, 0, 0, 0, 0, 0, 0, 0, 0, 0, 0, 0, 0, 0, 0, 0], label=0)\n",
            "INFO:ratsnlp:*** Example ***\n",
            "INFO:ratsnlp:sentence: 3D만 아니었어도 별 다섯 개 줬을텐데.. 왜 3D로 나와서 제 심기를 불편하게 하죠??\n",
            "INFO:ratsnlp:tokens: [CLS] 3 ##D ##만 아니었 ##어도 별 다섯 개 줬 ##을텐데 . . 왜 3 ##D ##로 나와서 제 심 ##기를 불편 ##하게 하죠 ? ? [SEP] [PAD] [PAD] [PAD] [PAD] [PAD] [PAD] [PAD] [PAD] [PAD] [PAD] [PAD] [PAD] [PAD] [PAD] [PAD] [PAD] [PAD] [PAD] [PAD] [PAD] [PAD] [PAD] [PAD] [PAD] [PAD] [PAD] [PAD] [PAD] [PAD] [PAD] [PAD] [PAD] [PAD] [PAD] [PAD] [PAD] [PAD] [PAD] [PAD] [PAD] [PAD] [PAD] [PAD] [PAD] [PAD] [PAD] [PAD] [PAD] [PAD] [PAD] [PAD] [PAD] [PAD] [PAD] [PAD] [PAD] [PAD] [PAD] [PAD] [PAD] [PAD] [PAD] [PAD] [PAD] [PAD] [PAD] [PAD] [PAD] [PAD] [PAD] [PAD] [PAD] [PAD] [PAD] [PAD] [PAD] [PAD] [PAD] [PAD] [PAD] [PAD] [PAD] [PAD] [PAD] [PAD] [PAD] [PAD] [PAD] [PAD] [PAD] [PAD] [PAD] [PAD] [PAD] [PAD] [PAD] [PAD] [PAD] [PAD] [PAD] [PAD]\n",
            "INFO:ratsnlp:label: 0\n",
            "INFO:ratsnlp:features: ClassificationFeatures(input_ids=[2, 22, 4452, 4049, 18851, 8194, 1558, 23887, 220, 2648, 9243, 17, 17, 2332, 22, 4452, 4091, 10045, 2545, 2015, 8313, 10588, 8007, 18566, 32, 32, 3, 0, 0, 0, 0, 0, 0, 0, 0, 0, 0, 0, 0, 0, 0, 0, 0, 0, 0, 0, 0, 0, 0, 0, 0, 0, 0, 0, 0, 0, 0, 0, 0, 0, 0, 0, 0, 0, 0, 0, 0, 0, 0, 0, 0, 0, 0, 0, 0, 0, 0, 0, 0, 0, 0, 0, 0, 0, 0, 0, 0, 0, 0, 0, 0, 0, 0, 0, 0, 0, 0, 0, 0, 0, 0, 0, 0, 0, 0, 0, 0, 0, 0, 0, 0, 0, 0, 0, 0, 0, 0, 0, 0, 0, 0, 0, 0, 0, 0, 0, 0, 0], attention_mask=[1, 1, 1, 1, 1, 1, 1, 1, 1, 1, 1, 1, 1, 1, 1, 1, 1, 1, 1, 1, 1, 1, 1, 1, 1, 1, 1, 0, 0, 0, 0, 0, 0, 0, 0, 0, 0, 0, 0, 0, 0, 0, 0, 0, 0, 0, 0, 0, 0, 0, 0, 0, 0, 0, 0, 0, 0, 0, 0, 0, 0, 0, 0, 0, 0, 0, 0, 0, 0, 0, 0, 0, 0, 0, 0, 0, 0, 0, 0, 0, 0, 0, 0, 0, 0, 0, 0, 0, 0, 0, 0, 0, 0, 0, 0, 0, 0, 0, 0, 0, 0, 0, 0, 0, 0, 0, 0, 0, 0, 0, 0, 0, 0, 0, 0, 0, 0, 0, 0, 0, 0, 0, 0, 0, 0, 0, 0, 0], token_type_ids=[0, 0, 0, 0, 0, 0, 0, 0, 0, 0, 0, 0, 0, 0, 0, 0, 0, 0, 0, 0, 0, 0, 0, 0, 0, 0, 0, 0, 0, 0, 0, 0, 0, 0, 0, 0, 0, 0, 0, 0, 0, 0, 0, 0, 0, 0, 0, 0, 0, 0, 0, 0, 0, 0, 0, 0, 0, 0, 0, 0, 0, 0, 0, 0, 0, 0, 0, 0, 0, 0, 0, 0, 0, 0, 0, 0, 0, 0, 0, 0, 0, 0, 0, 0, 0, 0, 0, 0, 0, 0, 0, 0, 0, 0, 0, 0, 0, 0, 0, 0, 0, 0, 0, 0, 0, 0, 0, 0, 0, 0, 0, 0, 0, 0, 0, 0, 0, 0, 0, 0, 0, 0, 0, 0, 0, 0, 0, 0], label=0)\n",
            "INFO:ratsnlp:Saving features into cached file, it could take a lot of time...\n",
            "INFO:ratsnlp:Saving features into cached file /content/Korpora/nsmc/cached_test_BertTokenizer_128_nsmc_document-classification [took 7.120 s]\n"
          ]
        }
      ]
    },
    {
      "cell_type": "markdown",
      "metadata": {
        "id": "HztMCywb70e9"
      },
      "source": [
        "# 모델 초기화\n",
        "프리트레인이 완료된 BERT 모델을 읽고, 문서 분류를 수행할 모델을 초기화합니다."
      ]
    },
    {
      "cell_type": "code",
      "metadata": {
        "id": "ohOlRdP18GVe"
      },
      "source": [
        "from transformers import BertConfig, BertForSequenceClassification\n",
        "#모델 초기화\n",
        "pretrained_model_config = BertConfig.from_pretrained(\n",
        "    args.pretrained_model_name, #kcbert-base o/)\n",
        "    num_labels=corpus.num_labels,\n",
        ")"
      ],
      "execution_count": 10,
      "outputs": []
    },
    {
      "cell_type": "markdown",
      "source": [
        "pretrained_model_name 부분을 바꿔 hugging face에 등록된 Pretrain model 불러와 자유롭게 사용가능 (https://huggingface.c"
      ],
      "metadata": {
        "id": "4ZU4EdWuNd2h"
      }
    },
    {
      "cell_type": "code",
      "metadata": {
        "id": "staYwMx88MWQ",
        "outputId": "03066596-641c-4f72-8f52-98c9c81ffc9e",
        "colab": {
          "base_uri": "https://localhost:8080/",
          "height": 155,
          "referenced_widgets": [
            "8ec9998d3a7b48948b90e7623e7a16ff",
            "908f0475a4bc4696a9633602cc162ec1",
            "e47a6a8175d34cbc878d9859652ef906",
            "089a6a4bdbbe4622af6bd33bbfc4f4fe",
            "bc2e8ace1c624a0b9a3218328c507374",
            "c6a091390e0c4886942c6eba1ef5e3e2",
            "e16a6c9418cd42cf914ed0d980fbdea3",
            "d71aefe60e754e7aac50d18f5296da1f",
            "ea8188534ce5444c8562be80d60a02eb",
            "438d44d95daf4f029df785af95081120",
            "73ac5c75a4494074a18b0cbfe8c370a8"
          ]
        }
      },
      "source": [
        "model = BertForSequenceClassification.from_pretrained( #문서 분류용 task module 더해진 클래스 (행렬 곱한 후 softmax)\n",
        "        args.pretrained_model_name,\n",
        "        config=pretrained_model_config,\n",
        ")"
      ],
      "execution_count": 11,
      "outputs": [
        {
          "output_type": "display_data",
          "data": {
            "text/plain": [
              "Downloading:   0%|          | 0.00/438M [00:00<?, ?B/s]"
            ],
            "application/vnd.jupyter.widget-view+json": {
              "version_major": 2,
              "version_minor": 0,
              "model_id": "8ec9998d3a7b48948b90e7623e7a16ff"
            }
          },
          "metadata": {}
        },
        {
          "output_type": "stream",
          "name": "stderr",
          "text": [
            "Some weights of the model checkpoint at beomi/kcbert-base were not used when initializing BertForSequenceClassification: ['cls.predictions.decoder.bias', 'cls.predictions.transform.dense.bias', 'cls.predictions.transform.LayerNorm.weight', 'cls.seq_relationship.bias', 'cls.predictions.transform.dense.weight', 'cls.predictions.bias', 'cls.predictions.decoder.weight', 'cls.seq_relationship.weight', 'cls.predictions.transform.LayerNorm.bias']\n",
            "- This IS expected if you are initializing BertForSequenceClassification from the checkpoint of a model trained on another task or with another architecture (e.g. initializing a BertForSequenceClassification model from a BertForPreTraining model).\n",
            "- This IS NOT expected if you are initializing BertForSequenceClassification from the checkpoint of a model that you expect to be exactly identical (initializing a BertForSequenceClassification model from a BertForSequenceClassification model).\n",
            "Some weights of BertForSequenceClassification were not initialized from the model checkpoint at beomi/kcbert-base and are newly initialized: ['classifier.bias', 'classifier.weight']\n",
            "You should probably TRAIN this model on a down-stream task to be able to use it for predictions and inference.\n"
          ]
        }
      ]
    },
    {
      "cell_type": "markdown",
      "metadata": {
        "id": "lYtJXijM8PN8"
      },
      "source": [
        "# 학습 준비\n",
        "Task와 Trainer를 준비합니다."
      ]
    },
    {
      "cell_type": "code",
      "metadata": {
        "id": "-FFn4MSz8SWu"
      },
      "source": [
        "from ratsnlp.nlpbook.classification import ClassificationTask\n",
        "#task 정의\n",
        "task = ClassificationTask(model, args)"
      ],
      "execution_count": 12,
      "outputs": []
    },
    {
      "cell_type": "markdown",
      "source": [
        "- Optimizer: Adam\n",
        "- lr scheduler: ExponentialLR (이전 epoch's lr * gamma(0.9) )"
      ],
      "metadata": {
        "id": "4jX7br0jNu2c"
      }
    },
    {
      "cell_type": "code",
      "metadata": {
        "id": "18W4vRtR8UTx",
        "outputId": "3527900d-1a16-43e2-d104-a4da25c8e3d2",
        "colab": {
          "base_uri": "https://localhost:8080/"
        }
      },
      "source": [
        "#GPU 설정, 로그 및 체크포인트 등 다양한 설정 자동으로 가능\n",
        "trainer = nlpbook.get_trainer(args)"
      ],
      "execution_count": 13,
      "outputs": [
        {
          "output_type": "stream",
          "name": "stderr",
          "text": [
            "GPU available: True, used: True\n",
            "TPU available: False, using: 0 TPU cores\n"
          ]
        }
      ]
    },
    {
      "cell_type": "markdown",
      "metadata": {
        "id": "KteHdhBT8X0e"
      },
      "source": [
        "# 학습\n",
        "준비한 데이터와 모델로 학습을 시작합니다. 학습 결과물(체크포인트)은 미리 연동해둔 구글 드라이브의 준비된 위치(`/gdrive/My Drive/nlpbook/checkpoint-doccls`)에 저장됩니다."
      ]
    },
    {
      "cell_type": "code",
      "metadata": {
        "id": "SDr3M_nF8l7M",
        "outputId": "24370860-98c8-4add-eec8-5d4ff31fbe0a",
        "colab": {
          "base_uri": "https://localhost:8080/",
          "height": 222,
          "referenced_widgets": [
            "b73b503915984146aacca72bd81fed39",
            "d8c2073aa7564aa28a836f1cca1dbd5f",
            "7cf0c3c5c3be4ff69cb3ff6ffe935752",
            "f2c7372aff8a4f649aa66b7949681deb",
            "77457a49fb694c22961916ad6ff6f7ae",
            "a1208a7b4c75465aa4aaacf7b35dfb5a",
            "13d0b5670c0c4d9f9d1e30ec83647b47",
            "5ae3c63f1c374f2ba12278887f7d4a64",
            "3282b3c4ae3b4508838ca204976b3377",
            "50373343a49941e490af43b43d6fc9e2",
            "041b2c96796a46619ed44fc799ba8919"
          ]
        }
      },
      "source": [
        "trainer.fit( \n",
        "    task,\n",
        "    train_dataloader=train_dataloader,\n",
        "    val_dataloaders=val_dataloader,\n",
        ")"
      ],
      "execution_count": null,
      "outputs": [
        {
          "output_type": "stream",
          "name": "stderr",
          "text": [
            "LOCAL_RANK: 0 - CUDA_VISIBLE_DEVICES: [0]\n",
            "\n",
            "  | Name  | Type                          | Params\n",
            "--------------------------------------------------------\n",
            "0 | model | BertForSequenceClassification | 108 M \n",
            "--------------------------------------------------------\n",
            "108 M     Trainable params\n",
            "0         Non-trainable params\n",
            "108 M     Total params\n",
            "435.680   Total estimated model params size (MB)\n"
          ]
        },
        {
          "output_type": "display_data",
          "data": {
            "text/plain": [
              "Training: 0it [00:00, ?it/s]"
            ],
            "application/vnd.jupyter.widget-view+json": {
              "version_major": 2,
              "version_minor": 0,
              "model_id": "b73b503915984146aacca72bd81fed39"
            }
          },
          "metadata": {}
        }
      ]
    },
    {
      "cell_type": "markdown",
      "metadata": {
        "id": "eC5OwyKMx_l9"
      },
      "source": [
        "# 각종 설정\n",
        "모델 하이퍼파라메터(hyperparameter)와 저장 위치 등 설정 정보를 선언합니다."
      ]
    },
    {
      "cell_type": "code",
      "metadata": {
        "id": "fKybDwDqFIX5"
      },
      "source": [
        "from ratsnlp.nlpbook.classification import ClassificationDeployArguments\n",
        "args = ClassificationDeployArguments(\n",
        "    pretrained_model_name=\"beomi/kcbert-base\",\n",
        "    downstream_model_dir=\"/gdrive/My Drive/nlpbook/checkpoint-doccls\", #fintuing한 모델의 체크 포인트 \n",
        "    max_seq_length=128, #default\n",
        ")"
      ],
      "execution_count": null,
      "outputs": []
    },
    {
      "cell_type": "markdown",
      "metadata": {
        "id": "J3mThtbxyNyO"
      },
      "source": [
        "# 모델 로딩\n",
        "파인튜닝을 마친 모델과 토크나이저를 읽어 들입니다."
      ]
    },
    {
      "cell_type": "code",
      "metadata": {
        "id": "aFV031RZFRgD"
      },
      "source": [
        "import torch\n",
        "from transformers import BertConfig, BertForSequenceClassification\n",
        "#fintuing한 모델의 체크 포인트 \n",
        "fine_tuned_model_ckpt = torch.load(\n",
        "    args.downstream_model_checkpoint_fpath,\n",
        "    map_location=torch.device(\"cpu\")\n",
        ")\n",
        "#모델의 설정값들 불러오기\n",
        "pretrained_model_config = BertConfig.from_pretrained(\n",
        "    args.pretrained_model_name,\n",
        "    num_labels=fine_tuned_model_ckpt['state_dict']['model.classifier.bias'].shape.numel(),\n",
        ")\n",
        "#설정값대로 모델 초기화 \n",
        "model = BertForSequenceClassification(pretrained_model_config)\n",
        "#체크 포인트 주입\n",
        "model.load_state_dict({k.replace(\"model.\", \"\"): v for k, v in fine_tuned_model_ckpt['state_dict'].items()})\n",
        "#모델 평가 모드로 전환: dropout 등의 train 시에만 사용되는 기법들 무효화시킴\n",
        "model.eval()"
      ],
      "execution_count": null,
      "outputs": []
    },
    {
      "cell_type": "code",
      "metadata": {
        "id": "C3amlsjpFd9i"
      },
      "source": [
        "from transformers import BertTokenizer\n",
        "tokenizer = BertTokenizer.from_pretrained(\n",
        "    args.pretrained_model_name,\n",
        "    do_lower_case=False,\n",
        ")"
      ],
      "execution_count": null,
      "outputs": []
    },
    {
      "cell_type": "markdown",
      "metadata": {
        "id": "ZWVsdmThyV_p"
      },
      "source": [
        "# 인퍼런스 함수 선언\n",
        "인퍼런스 함수를 선언합니다."
      ]
    },
    {
      "cell_type": "code",
      "metadata": {
        "id": "fnzR9NMtFiAz"
      },
      "source": [
        "def inference_fn(sentence):\n",
        "    inputs = tokenizer(\n",
        "        [sentence],\n",
        "        max_length=args.max_seq_length,\n",
        "        padding=\"max_length\",\n",
        "        truncation=True,\n",
        "    )\n",
        "    with torch.no_grad():\n",
        "        outputs = model(**{k: torch.tensor(v) for k, v in inputs.items()})\n",
        "        prob = outputs.logits.softmax(dim=1)\n",
        "        #softmax 결과를 소수점 4자리로 반올림\n",
        "        positive_prob = round(prob[0][1].item(), 4)\n",
        "        negative_prob = round(prob[0][0].item(), 4)\n",
        "        #예측 확률의 최대값 위치에 따라 결과 만들기 \n",
        "        pred = \"긍정 (positive)\" if torch.argmax(prob) == 1 else \"부정 (negative)\"\n",
        "    return {\n",
        "        'sentence': sentence,\n",
        "        'prediction': pred,\n",
        "        'positive_data': f\"긍정 {positive_prob}\",\n",
        "        'negative_data': f\"부정 {negative_prob}\",\n",
        "        'positive_width': f\"{positive_prob * 100}%\",\n",
        "        'negative_width': f\"{negative_prob * 100}%\",\n",
        "    }"
      ],
      "execution_count": null,
      "outputs": []
    },
    {
      "cell_type": "markdown",
      "source": [
        "# 웹서비스 만들기 준비\n",
        "\n",
        "`ngrok`은 코랩 로컬에서 실행 중인 웹서비스를 안전하게 외부에서 접근 가능하도록 해주는 도구입니다. `ngrok`을 실행하려면 [회원가입](https://dashboard.ngrok.com/signup) 후 [로그인](https://dashboard.ngrok.com/login)을 한 뒤 [이곳](https://dashboard.ngrok.com/get-started/your-authtoken)에 접속해 인증 토큰(authtoken)을 확인해야 합니다. 예를 들어 확인된 `authtoken`이 `test111`이라면 다음과 같이 실행합니다.\n",
        "\n",
        "```bash\n",
        "!mkdir /root/.ngrok2 && echo \"authtoken: test111\" > /root/.ngrok2/ngrok.yml\n",
        "```"
      ],
      "metadata": {
        "id": "Xt7Z7G0dB7yY"
      }
    },
    {
      "cell_type": "code",
      "source": [
        "!mkdir /root/.ngrok2 && echo \"authtoken: {이곳에 확인된 인증 토큰을 입력하세요}\" > /root/.ngrok2/ngrok.yml"
      ],
      "metadata": {
        "id": "6KshHb4P_0wj"
      },
      "execution_count": null,
      "outputs": []
    },
    {
      "cell_type": "markdown",
      "metadata": {
        "id": "wPP6ZAaSybge"
      },
      "source": [
        "# 웹서비스 개시\n",
        "아래처럼 실행해 인퍼런스 함수를 웹서비스로 만듭니다."
      ]
    },
    {
      "cell_type": "code",
      "metadata": {
        "id": "_up1ARoHFwLN"
      },
      "source": [
        "from ratsnlp.nlpbook.classification import get_web_service_app\n",
        "app = get_web_service_app(inference_fn)\n",
        "app.run()"
      ],
      "execution_count": null,
      "outputs": []
    }
  ]
}